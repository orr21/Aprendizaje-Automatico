{
 "cells": [
  {
   "attachments": {},
   "cell_type": "markdown",
   "metadata": {},
   "source": [
    "# Práctica 1. Preprocesado básico de datos\n",
    "\n",
    "### Grupo 41\n",
    "Alumnos:\n",
    "- Óscar Rico Rodríguez\n",
    "- Jia Hao Yang"
   ]
  },
  {
   "attachments": {},
   "cell_type": "markdown",
   "metadata": {},
   "source": [
    "# Ejercicio 1: Conversión de datos simbólicos a numéricos"
   ]
  },
  {
   "attachments": {},
   "cell_type": "markdown",
   "metadata": {},
   "source": [
    "Importamos las librerías, para esta práctica, solo utilizaremos la librería NumPy."
   ]
  },
  {
   "cell_type": "code",
   "execution_count": 1,
   "metadata": {},
   "outputs": [],
   "source": [
    "import numpy as np"
   ]
  },
  {
   "attachments": {},
   "cell_type": "markdown",
   "metadata": {},
   "source": [
    "La clase *CodificadorBinario* contiene cuatro métodos:\n",
    "- El primer método, es el constructor de la clase e inicializa dos estructuras de datos, en nuestro caso dos diccionarios donde se almacenarán los datos. Estos son un diccionario que almacenará los valores de codificación y el otro los valores de decodificación respectivamente.\n",
    "\n",
    "- El segundo método genera y almacena las claves y los valores en sus respectivos diccionarios que hemos previamente generado con el constructor, asociando a cada valor simbólico un valor numérico. Este no tiene porque estar ordenado.\n",
    "\n",
    "- El tercer método, devuelve una lista de los valores numéricos que han sido codificados mediante el diccionario de codificación.\n",
    "\n",
    "- El cuarto método, devuelve una lista de los valores simbólicos que han sido decodificados mediante el diccionario de decodificación."
   ]
  },
  {
   "cell_type": "code",
   "execution_count": 51,
   "metadata": {},
   "outputs": [],
   "source": [
    "class CodificadorEtiqueta:\n",
    "    def __init__(self) -> None:\n",
    "        self.coding_dict = dict()\n",
    "        self.decoding_dict = dict()\n",
    "\n",
    "    def inicializar(self, y: list) -> None:\n",
    "        for idx, val in enumerate(set(y)):\n",
    "            self.coding_dict[val] = idx\n",
    "            self.decoding_dict[idx] = val\n",
    "        return None\n",
    "\n",
    "    def codificar(self, y: list) -> list:\n",
    "        coded = []\n",
    "        for val in y:\n",
    "            if val not in self.coding_dict.keys():\n",
    "                raise ValueError(\"Value not found or hasn't been initialized before.\")\n",
    "            coded.append(self.coding_dict.get(val))\n",
    "        return coded\n",
    "\n",
    "    def decodificar(self, y: list) -> list:\n",
    "        decoded = []\n",
    "        for val in y:\n",
    "            if val not in self.decoding_dict.keys():\n",
    "                raise ValueError(\"Value not found or hasn't been initialized before.\")\n",
    "            decoded.append(self.decoding_dict.get(val))\n",
    "        return decoded"
   ]
  },
  {
   "attachments": {},
   "cell_type": "markdown",
   "metadata": {},
   "source": [
    "Ejemplos de cómo funciona la clase."
   ]
  },
  {
   "attachments": {},
   "cell_type": "markdown",
   "metadata": {},
   "source": [
    "### Ejemplo 1.\n",
    "Caso favorable, donde el array que pasa por el inicializador es el mismo que se quiere codificar."
   ]
  },
  {
   "cell_type": "code",
   "execution_count": 52,
   "metadata": {},
   "outputs": [
    {
     "name": "stdout",
     "output_type": "stream",
     "text": [
      "None\n",
      "[0, 1, 4, 2, 3]\n",
      "['d', 'a', 'b', 'c', 'e']\n"
     ]
    }
   ],
   "source": [
    "codificador_etiqueta = CodificadorEtiqueta()\n",
    "array = [\"a\", \"b\", \"c\", \"d\", \"e\"]\n",
    "codificar = [\"a\", \"b\", \"c\", \"d\", \"e\"]\n",
    "decodificar = [2, 0, 1, 4, 3]\n",
    "print(codificador_etiqueta.inicializar(y = array))\n",
    "print(codificador_etiqueta.codificar(y = codificar))\n",
    "print(codificador_etiqueta.decodificar(y = decodificar))"
   ]
  },
  {
   "attachments": {},
   "cell_type": "markdown",
   "metadata": {},
   "source": [
    "### Ejemplo 2.\n",
    "Caso no favorable. El array a codificar contiene un valor que no se ha encontrado o que no ha sido inicializado, saltando así un ```ValueError``` que indica que la clave no se encuentra en el diccionario o que no ha sido inicializado."
   ]
  },
  {
   "cell_type": "code",
   "execution_count": 42,
   "metadata": {},
   "outputs": [
    {
     "name": "stdout",
     "output_type": "stream",
     "text": [
      "None\n"
     ]
    },
    {
     "ename": "ValueError",
     "evalue": "Value not found or hasn't been initialized before.",
     "output_type": "error",
     "traceback": [
      "\u001b[0;31m---------------------------------------------------------------------------\u001b[0m",
      "\u001b[0;31mValueError\u001b[0m                                Traceback (most recent call last)",
      "Cell \u001b[0;32mIn[42], line 6\u001b[0m\n\u001b[1;32m      4\u001b[0m decodificar \u001b[39m=\u001b[39m [\u001b[39m2\u001b[39m, \u001b[39m0\u001b[39m, \u001b[39m1\u001b[39m, \u001b[39m4\u001b[39m, \u001b[39m3\u001b[39m]\n\u001b[1;32m      5\u001b[0m \u001b[39mprint\u001b[39m(codificador_etiqueta\u001b[39m.\u001b[39minicializar(y \u001b[39m=\u001b[39m array))\n\u001b[0;32m----> 6\u001b[0m \u001b[39mprint\u001b[39m(codificador_etiqueta\u001b[39m.\u001b[39;49mcodificar(y \u001b[39m=\u001b[39;49m codificar))\n\u001b[1;32m      7\u001b[0m \u001b[39mprint\u001b[39m(codificador_etiqueta\u001b[39m.\u001b[39mdecodificar(y \u001b[39m=\u001b[39m decodificar))\n",
      "Cell \u001b[0;32mIn[39], line 17\u001b[0m, in \u001b[0;36mCodificadorEtiqueta.codificar\u001b[0;34m(self, y)\u001b[0m\n\u001b[1;32m     15\u001b[0m \u001b[39mfor\u001b[39;00m idx, val \u001b[39min\u001b[39;00m \u001b[39menumerate\u001b[39m(y):\n\u001b[1;32m     16\u001b[0m     \u001b[39mif\u001b[39;00m val \u001b[39mnot\u001b[39;00m \u001b[39min\u001b[39;00m \u001b[39mself\u001b[39m\u001b[39m.\u001b[39mcoding_dict\u001b[39m.\u001b[39mkeys():\n\u001b[0;32m---> 17\u001b[0m         \u001b[39mraise\u001b[39;00m \u001b[39mValueError\u001b[39;00m(\u001b[39m\"\u001b[39m\u001b[39mValue not found or hasn\u001b[39m\u001b[39m'\u001b[39m\u001b[39mt been initialized before.\u001b[39m\u001b[39m\"\u001b[39m)\n\u001b[1;32m     18\u001b[0m     val \u001b[39m=\u001b[39m \u001b[39mself\u001b[39m\u001b[39m.\u001b[39mcoding_dict\u001b[39m.\u001b[39mget(val)\n\u001b[1;32m     19\u001b[0m \u001b[39mreturn\u001b[39;00m y\n",
      "\u001b[0;31mValueError\u001b[0m: Value not found or hasn't been initialized before."
     ]
    }
   ],
   "source": [
    "codificador_etiqueta = CodificadorEtiqueta()\n",
    "array = [\"a\", \"b\", \"c\", \"d\", \"e\"]\n",
    "codificar = [\"a\", \"b\", \"c\", \"d\", \"e\", \"Pepe\"]\n",
    "decodificar = [2, 0, 1, 4, 3]\n",
    "print(codificador_etiqueta.inicializar(y = array))\n",
    "print(codificador_etiqueta.codificar(y = codificar))\n",
    "print(codificador_etiqueta.decodificar(y = decodificar))"
   ]
  },
  {
   "attachments": {},
   "cell_type": "markdown",
   "metadata": {},
   "source": [
    "### Ejemplo 3.\n",
    "Caso no favorable. El array a decodificar contiene un valor que no se ha encontrado o que no ha sido inicializado, saltando así un ```ValueError``` que indica que la clave no se encuentra en el diccionario o que no ha sido inicializado."
   ]
  },
  {
   "cell_type": "code",
   "execution_count": 43,
   "metadata": {},
   "outputs": [
    {
     "name": "stdout",
     "output_type": "stream",
     "text": [
      "None\n",
      "['a', 'b', 'c', 'd', 'e']\n"
     ]
    },
    {
     "ename": "ValueError",
     "evalue": "Value not found or hasn't been initialized before.",
     "output_type": "error",
     "traceback": [
      "\u001b[0;31m---------------------------------------------------------------------------\u001b[0m",
      "\u001b[0;31mValueError\u001b[0m                                Traceback (most recent call last)",
      "Cell \u001b[0;32mIn[43], line 7\u001b[0m\n\u001b[1;32m      5\u001b[0m \u001b[39mprint\u001b[39m(codificador_etiqueta\u001b[39m.\u001b[39minicializar(y \u001b[39m=\u001b[39m array))\n\u001b[1;32m      6\u001b[0m \u001b[39mprint\u001b[39m(codificador_etiqueta\u001b[39m.\u001b[39mcodificar(y \u001b[39m=\u001b[39m codificar))\n\u001b[0;32m----> 7\u001b[0m \u001b[39mprint\u001b[39m(codificador_etiqueta\u001b[39m.\u001b[39;49mdecodificar(y \u001b[39m=\u001b[39;49m decodificar))\n",
      "Cell \u001b[0;32mIn[39], line 24\u001b[0m, in \u001b[0;36mCodificadorEtiqueta.decodificar\u001b[0;34m(self, y)\u001b[0m\n\u001b[1;32m     22\u001b[0m \u001b[39mfor\u001b[39;00m idx, val \u001b[39min\u001b[39;00m \u001b[39menumerate\u001b[39m(y):\n\u001b[1;32m     23\u001b[0m     \u001b[39mif\u001b[39;00m val \u001b[39mnot\u001b[39;00m \u001b[39min\u001b[39;00m \u001b[39mself\u001b[39m\u001b[39m.\u001b[39mdecoding_dict\u001b[39m.\u001b[39mkeys():\n\u001b[0;32m---> 24\u001b[0m         \u001b[39mraise\u001b[39;00m \u001b[39mValueError\u001b[39;00m(\u001b[39m\"\u001b[39m\u001b[39mValue not found or hasn\u001b[39m\u001b[39m'\u001b[39m\u001b[39mt been initialized before.\u001b[39m\u001b[39m\"\u001b[39m)\n\u001b[1;32m     25\u001b[0m     val \u001b[39m=\u001b[39m \u001b[39mself\u001b[39m\u001b[39m.\u001b[39mdecoding_dict\u001b[39m.\u001b[39mget(val)\n\u001b[1;32m     26\u001b[0m \u001b[39mreturn\u001b[39;00m y\n",
      "\u001b[0;31mValueError\u001b[0m: Value not found or hasn't been initialized before."
     ]
    }
   ],
   "source": [
    "codificador_etiqueta = CodificadorEtiqueta()\n",
    "array = [\"a\", \"b\", \"c\", \"d\", \"e\"]\n",
    "codificar = [\"a\", \"b\", \"c\", \"d\", \"e\"]\n",
    "decodificar = [2, 0, 1, 4, 3, 1000]\n",
    "print(codificador_etiqueta.inicializar(y = array))\n",
    "print(codificador_etiqueta.codificar(y = codificar))\n",
    "print(codificador_etiqueta.decodificar(y = decodificar))"
   ]
  },
  {
   "attachments": {},
   "cell_type": "markdown",
   "metadata": {},
   "source": [
    "# Ejercicio 2: Escalar valores numéricos"
   ]
  },
  {
   "attachments": {},
   "cell_type": "markdown",
   "metadata": {},
   "source": [
    "La clase *EscalarValores* contiene cuatro métodos:\n",
    "- El primer método es el constructor, inicializa:\n",
    "    - Una lista de tuplas que contine los valores $m$ y $n$, respectivamente.\n",
    "    - Un array de NumPy donde se almacenarán los valores escalados con respecto al array original\n",
    "    - Un array de NumPy donde se almacenarán los valores desescalados.\n",
    "- El segundo método calcula máximo y mínimo de cada columna, pendiente y valor independiente. Inicializando las variables de la fórmula para su posterior uso en los siguientes métodos. \n",
    "- El tercer método realiza el cálculo para escalar dichos valores y almacenarlos en un array de valores escalados.\n",
    "- El cuarto método realiza la misma operación que el método anterior pero a la inversa almacenándolo también en un array de valores desescalados."
   ]
  },
  {
   "cell_type": "code",
   "execution_count": 76,
   "metadata": {},
   "outputs": [],
   "source": [
    "class EscalarValores:\n",
    "    def __init__(self) -> None:\n",
    "        self.touples = []\n",
    "        self.scales = np.ndarray\n",
    "        self.invscale = np.ndarray\n",
    "\n",
    "    def inicializar(self, x: np.ndarray, min: np.double = -1, max: np.double = 1) -> None:\n",
    "        x_max = np.amax(x, axis=0)\n",
    "        x_min = np.amin(x, axis=0)\n",
    "        for idx, val in enumerate(x.T):\n",
    "            m = ((max-min)) / (x_max[idx] - x_min[idx])\n",
    "            n = ((min*x_max[idx])-(max*x_min[idx])) / (x_max[idx]-x_min[idx])\n",
    "            self.touples.append((m, n))\n",
    "        return None\n",
    "\n",
    "    def escalar(self, x: np.ndarray) -> np.ndarray:\n",
    "        self.scales = x.copy().T\n",
    "        for idx, ival in enumerate(self.scales):\n",
    "            for jdx, jval in enumerate(self.scales[idx]):\n",
    "                self.scales[idx][jdx] = (self.touples[idx])[0] * self.scales[idx][jdx] + (self.touples[idx])[1]\n",
    "        return self.scales.T\n",
    "\n",
    "    def escalar_inv(self, x: np.ndarray) -> np.ndarray:\n",
    "        self.invscale = x.copy().T\n",
    "        for idx, ival in enumerate(self.invscale):\n",
    "            for jdx, jval in enumerate(self.invscale[idx]):\n",
    "                self.invscale[idx][jdx] = (self.invscale[idx][jdx] - (self.touples[idx])[1]) / (self.touples[idx])[0] \n",
    "        return self.invscale.T"
   ]
  },
  {
   "attachments": {},
   "cell_type": "markdown",
   "metadata": {},
   "source": [
    "Ejemplos de como funciona la clase."
   ]
  },
  {
   "cell_type": "code",
   "execution_count": 77,
   "metadata": {},
   "outputs": [
    {
     "name": "stdout",
     "output_type": "stream",
     "text": [
      "[[-1.         -1.         -1.        ]\n",
      " [ 0.         -0.45454545 -0.80904523]\n",
      " [ 1.          1.          1.        ]]\n",
      "[[   1.    2.    5.]\n",
      " [   2.    8.  100.]\n",
      " [   3.   24. 1000.]]\n"
     ]
    }
   ],
   "source": [
    "array = np.array(\n",
    "    [\n",
    "        [1, 2, 5],\n",
    "        [2, 8, 100],\n",
    "        [3, 24, 1000]\n",
    "    ], np.float64\n",
    ")\n",
    "\n",
    "escalar_valores = EscalarValores()\n",
    "escalar_valores.inicializar(array)\n",
    "escalado = escalar_valores.escalar(array)\n",
    "desescalado = escalar_valores.escalar_inv(escalado)\n",
    "print(escalado)\n",
    "print(desescalado)"
   ]
  },
  {
   "attachments": {},
   "cell_type": "markdown",
   "metadata": {},
   "source": [
    "# Ejercicio 3.  División de un conjunto de datos en entrenamiento y test"
   ]
  },
  {
   "attachments": {},
   "cell_type": "markdown",
   "metadata": {},
   "source": [
    "En este ejercicio se nos pide desarrollar una función que divida un array con datos númericos en un segmento para el entrenamiento de un modelo y la otra parte para el testeo. Acepta parámetros para que se reordenen de manera pseudoaleatoria y una semilla si se desea un orden de aleatoriedad fija. Además, acepta otro parámetro que tiene que ser un array unidimensional con valores simbólicos que se ordenan y segmentan de la misma manera que el array original\n",
    "\n",
    "**¿Cómo se hizo?**\n",
    "\n",
    "Para la semilla hemos usado la función propia de NumPy `random.seed()` que establece un orden de aleatoriedad fija si se le pasa un valor númerico distinto de `None`. A continuación, cogemos el número de filas total del array `x` y lo multiplicamos por la proporción pasada como parámetro para segmentar el array original en las subarrays de *train* y *test*.\n",
    "\n",
    "En caso de que la variable `mezclar` sea `True` creamos un array de números aleatorios entre 0 y el número de filas del array `x` con la función de Numpy `random.permutation()` que usaremos como índices, los cuáles usaremos para mezclar la `x` y en caso de que exista el array `y`. Esta fue la solución que encontramos para mezclar ambos arrays y que las filas concuerden.\n",
    "\n",
    "Tras esto usamos slicing para subdividir el array `x` en *train* y *test*. En caso de que exista el array `y`, se usaría la misma técnica y se devolvería una lista de 4 valores (x_train, x_test, y_train, y_test). De lo contrario se devolvería una lista de 2 valores (x_train, x_test)."
   ]
  },
  {
   "cell_type": "code",
   "execution_count": 78,
   "metadata": {},
   "outputs": [],
   "source": [
    "def divide_entrenamiento_test(x: np.ndarray, y: np.array=None,tam_train: np.double=0.7, semilla: int=None,mezclar: bool=True) -> list:\n",
    "    np.random.seed(semilla)\n",
    "    num_filas = x.shape[0]\n",
    "    num_filas_entrenamiento = int(tam_train * num_filas)\n",
    "    \n",
    "    if mezclar:\n",
    "        indices = np.random.permutation(num_filas)\n",
    "        x = x[indices]\n",
    "        if y is not None:\n",
    "            y = y[indices]\n",
    "\n",
    "    x_entrenamiento = x[:num_filas_entrenamiento]\n",
    "    x_test = x[num_filas_entrenamiento:]\n",
    "    \n",
    "    if y is not None:\n",
    "        y_entrenamiento = y[:num_filas_entrenamiento]\n",
    "        y_test = y[num_filas_entrenamiento:]\n",
    "        return [x_entrenamiento, x_test, y_entrenamiento, y_test]\n",
    "    return [x_entrenamiento, x_test]"
   ]
  },
  {
   "attachments": {},
   "cell_type": "markdown",
   "metadata": {},
   "source": [
    "Ejemplos de como funciona la clase."
   ]
  },
  {
   "cell_type": "code",
   "execution_count": 79,
   "metadata": {},
   "outputs": [
    {
     "name": "stdout",
     "output_type": "stream",
     "text": [
      "[array([[ 1,  4,  7, 17, 18],\n",
      "       [12, 13, 16, 17, 20],\n",
      "       [ 1,  7,  8,  9, 12],\n",
      "       [ 5,  6, 13, 14, 15],\n",
      "       [ 2,  4,  6,  7,  9],\n",
      "       [ 4,  6, 10, 13, 20],\n",
      "       [ 9, 12, 13, 16, 18],\n",
      "       [ 3,  4,  5, 10, 16]]), array([[ 9, 13, 16, 17, 19],\n",
      "       [ 1,  3,  7, 13, 16]]), array([['no'],\n",
      "       ['si'],\n",
      "       ['si'],\n",
      "       ['si'],\n",
      "       ['si'],\n",
      "       ['si'],\n",
      "       ['no'],\n",
      "       ['no']], dtype='<U2'), array([['no'],\n",
      "       ['no']], dtype='<U2')]\n"
     ]
    }
   ],
   "source": [
    "x_array = np.array(\n",
    "    [\n",
    "        [2, 4, 6, 7, 9],\n",
    "        [9, 12, 13, 16, 18],\n",
    "        [1, 4, 7, 17, 18],\n",
    "        [4, 6, 10, 13, 20],\n",
    "        [5, 6, 13, 14, 15],\n",
    "        [1, 3, 7, 13, 16],\n",
    "        [1, 7, 8, 9, 12],\n",
    "        [3, 4, 5, 10, 16],\n",
    "        [9, 13, 16, 17, 19],\n",
    "        [12, 13, 16, 17, 20]    \n",
    "    ]\n",
    ")\n",
    "\n",
    "y_array = np.array(\n",
    "    [\n",
    "        [\"si\"],\n",
    "        [\"no\"],        \n",
    "        [\"no\"],\n",
    "        [\"si\"],\n",
    "        [\"si\"],\n",
    "        [\"no\"],\n",
    "        [\"si\"],\n",
    "        [\"no\"],\n",
    "        [\"no\"],\n",
    "        [\"si\"]\n",
    "    ]\n",
    ")\n",
    "\n",
    "result = divide_entrenamiento_test(x=x_array, tam_train=0.8, mezclar=True, semilla=1, y=y_array)\n",
    "print(result)"
   ]
  }
 ],
 "metadata": {
  "kernelspec": {
   "display_name": "AA1",
   "language": "python",
   "name": "python3"
  },
  "language_info": {
   "codemirror_mode": {
    "name": "ipython",
    "version": 3
   },
   "file_extension": ".py",
   "mimetype": "text/x-python",
   "name": "python",
   "nbconvert_exporter": "python",
   "pygments_lexer": "ipython3",
   "version": "3.10.9"
  },
  "orig_nbformat": 4,
  "vscode": {
   "interpreter": {
    "hash": "bcfa7f6eb856aee91248c4acd7c998600a593ce0fab28ebea89818a4a6f90557"
   }
  }
 },
 "nbformat": 4,
 "nbformat_minor": 2
}
