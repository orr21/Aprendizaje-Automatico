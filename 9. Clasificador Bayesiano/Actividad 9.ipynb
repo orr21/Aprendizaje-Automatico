{
 "cells": [
  {
   "attachments": {},
   "cell_type": "markdown",
   "metadata": {},
   "source": [
    "# Práctica 9. Clasificador Bayesiano\n",
    "\n",
    "### Grupo 41\n",
    "Alumnos:\n",
    "- Óscar Rico Rodríguez\n",
    "- Jia Hao Yang"
   ]
  },
  {
   "attachments": {},
   "cell_type": "markdown",
   "metadata": {},
   "source": [
    "### Tarea 1: Clasificación de mensajes como spam con Naive Bayes\n",
    "Haciendo uso de los dos conjuntos de datos explicados en el apartado 9.2 se van a clasificar los mensajes como legítimos (ham) o spam. Para ello se hará uso de las implementaciones que hace la librería sklearn del clasificador Naive Bayes. Las clases están contenidas en el módulo naive_bayes y varían dependiendo de la hipótesis previas sobre la verosimilitud de cada característica (ec. 9.1.3). Las clases implementadas son  GaussianNB considera que la verosimilitud sigue una distribución normal N(µi ,σi), la clase MultinomialNB cuando las características se corresponden con el número de apariciones de un determinado valor como puede ser una palabra, la clase ComplementNB que es una variante del MultinomialNB cuando las clases están desbalanceadas o la clase BernoulliNB cuando las características son booleanas ya que supone una distribución de Bernoulli. De la misma forma que las clases de clasificadores vistas hasta ahora, estas clases que implementan diferentes versiones del clasificador Naive Bayes poseen los métodos fit y predict.\n",
    "\n",
    "Así en esta tarea se deberá realizar lo siguiente:\n",
    "- Dividir los conjuntos de entrenamiento en train (70%) y test (30%).\n",
    "- Entrenar las diferentes implementaciones del clasificador Naive Bayes indicadas anteriormente.\n",
    "- Obtener para los dos conjuntos de datos la tasa de acierto (accuracy).\n",
    "- Obtener las matrices de confusión.\n",
    "- Analizar y explicar los resultados obtenidos con cada clasificador en función de las medidas anteriores."
   ]
  },
  {
   "cell_type": "code",
   "execution_count": 255,
   "metadata": {},
   "outputs": [],
   "source": [
    "import pandas as pd\n",
    "import numpy as np\n",
    "import matplotlib.pyplot as plt\n",
    "from sklearn.naive_bayes import GaussianNB, MultinomialNB, BernoulliNB, ComplementNB\n",
    "from sklearn.model_selection import train_test_split\n",
    "from sklearn.metrics import accuracy_score\n",
    "from sklearn.metrics import confusion_matrix"
   ]
  },
  {
   "cell_type": "markdown",
   "metadata": {},
   "source": [
    "`spam_preprocesado_reales`"
   ]
  },
  {
   "cell_type": "code",
   "execution_count": 256,
   "metadata": {},
   "outputs": [],
   "source": [
    "reales_accurracy = []\n",
    "binarios_accurracy = []"
   ]
  },
  {
   "cell_type": "code",
   "execution_count": 257,
   "metadata": {},
   "outputs": [],
   "source": [
    "spam_reales = pd.read_csv('spam_preprocesado_reales.csv')"
   ]
  },
  {
   "cell_type": "code",
   "execution_count": 258,
   "metadata": {},
   "outputs": [
    {
     "data": {
      "text/html": [
       "<div>\n",
       "<style scoped>\n",
       "    .dataframe tbody tr th:only-of-type {\n",
       "        vertical-align: middle;\n",
       "    }\n",
       "\n",
       "    .dataframe tbody tr th {\n",
       "        vertical-align: top;\n",
       "    }\n",
       "\n",
       "    .dataframe thead th {\n",
       "        text-align: right;\n",
       "    }\n",
       "</style>\n",
       "<table border=\"1\" class=\"dataframe\">\n",
       "  <thead>\n",
       "    <tr style=\"text-align: right;\">\n",
       "      <th></th>\n",
       "      <th>v1</th>\n",
       "      <th>150p</th>\n",
       "      <th>150ppm</th>\n",
       "      <th>16</th>\n",
       "      <th>18</th>\n",
       "      <th>1st</th>\n",
       "      <th>2nd</th>\n",
       "      <th>500</th>\n",
       "      <th>a100</th>\n",
       "      <th>a1000</th>\n",
       "      <th>...</th>\n",
       "      <th>yes</th>\n",
       "      <th>yesterday</th>\n",
       "      <th>yet</th>\n",
       "      <th>yo</th>\n",
       "      <th>you</th>\n",
       "      <th>your</th>\n",
       "      <th>youre</th>\n",
       "      <th>yours</th>\n",
       "      <th>yourself</th>\n",
       "      <th>yup</th>\n",
       "    </tr>\n",
       "  </thead>\n",
       "  <tbody>\n",
       "    <tr>\n",
       "      <th>0</th>\n",
       "      <td>ham</td>\n",
       "      <td>0.0</td>\n",
       "      <td>0.0</td>\n",
       "      <td>0.0</td>\n",
       "      <td>0.0</td>\n",
       "      <td>0.0</td>\n",
       "      <td>0.0</td>\n",
       "      <td>0.0</td>\n",
       "      <td>0.0</td>\n",
       "      <td>0.0</td>\n",
       "      <td>...</td>\n",
       "      <td>0.0</td>\n",
       "      <td>0.0</td>\n",
       "      <td>0.0</td>\n",
       "      <td>0.0</td>\n",
       "      <td>0.0</td>\n",
       "      <td>0.0</td>\n",
       "      <td>0.0</td>\n",
       "      <td>0.0</td>\n",
       "      <td>0.0</td>\n",
       "      <td>0.0</td>\n",
       "    </tr>\n",
       "    <tr>\n",
       "      <th>1</th>\n",
       "      <td>ham</td>\n",
       "      <td>0.0</td>\n",
       "      <td>0.0</td>\n",
       "      <td>0.0</td>\n",
       "      <td>0.0</td>\n",
       "      <td>0.0</td>\n",
       "      <td>0.0</td>\n",
       "      <td>0.0</td>\n",
       "      <td>0.0</td>\n",
       "      <td>0.0</td>\n",
       "      <td>...</td>\n",
       "      <td>0.0</td>\n",
       "      <td>0.0</td>\n",
       "      <td>0.0</td>\n",
       "      <td>0.0</td>\n",
       "      <td>0.0</td>\n",
       "      <td>0.0</td>\n",
       "      <td>0.0</td>\n",
       "      <td>0.0</td>\n",
       "      <td>0.0</td>\n",
       "      <td>0.0</td>\n",
       "    </tr>\n",
       "    <tr>\n",
       "      <th>2</th>\n",
       "      <td>spam</td>\n",
       "      <td>0.0</td>\n",
       "      <td>0.0</td>\n",
       "      <td>0.0</td>\n",
       "      <td>0.0</td>\n",
       "      <td>0.0</td>\n",
       "      <td>0.0</td>\n",
       "      <td>0.0</td>\n",
       "      <td>0.0</td>\n",
       "      <td>0.0</td>\n",
       "      <td>...</td>\n",
       "      <td>0.0</td>\n",
       "      <td>0.0</td>\n",
       "      <td>0.0</td>\n",
       "      <td>0.0</td>\n",
       "      <td>0.0</td>\n",
       "      <td>0.0</td>\n",
       "      <td>0.0</td>\n",
       "      <td>0.0</td>\n",
       "      <td>0.0</td>\n",
       "      <td>0.0</td>\n",
       "    </tr>\n",
       "    <tr>\n",
       "      <th>3</th>\n",
       "      <td>ham</td>\n",
       "      <td>0.0</td>\n",
       "      <td>0.0</td>\n",
       "      <td>0.0</td>\n",
       "      <td>0.0</td>\n",
       "      <td>0.0</td>\n",
       "      <td>0.0</td>\n",
       "      <td>0.0</td>\n",
       "      <td>0.0</td>\n",
       "      <td>0.0</td>\n",
       "      <td>...</td>\n",
       "      <td>0.0</td>\n",
       "      <td>0.0</td>\n",
       "      <td>0.0</td>\n",
       "      <td>0.0</td>\n",
       "      <td>0.0</td>\n",
       "      <td>0.0</td>\n",
       "      <td>0.0</td>\n",
       "      <td>0.0</td>\n",
       "      <td>0.0</td>\n",
       "      <td>0.0</td>\n",
       "    </tr>\n",
       "    <tr>\n",
       "      <th>4</th>\n",
       "      <td>ham</td>\n",
       "      <td>0.0</td>\n",
       "      <td>0.0</td>\n",
       "      <td>0.0</td>\n",
       "      <td>0.0</td>\n",
       "      <td>0.0</td>\n",
       "      <td>0.0</td>\n",
       "      <td>0.0</td>\n",
       "      <td>0.0</td>\n",
       "      <td>0.0</td>\n",
       "      <td>...</td>\n",
       "      <td>0.0</td>\n",
       "      <td>0.0</td>\n",
       "      <td>0.0</td>\n",
       "      <td>0.0</td>\n",
       "      <td>0.0</td>\n",
       "      <td>0.0</td>\n",
       "      <td>0.0</td>\n",
       "      <td>0.0</td>\n",
       "      <td>0.0</td>\n",
       "      <td>0.0</td>\n",
       "    </tr>\n",
       "  </tbody>\n",
       "</table>\n",
       "<p>5 rows × 501 columns</p>\n",
       "</div>"
      ],
      "text/plain": [
       "     v1  150p  150ppm   16   18  1st  2nd  500  a100  a1000  ...  yes  \\\n",
       "0   ham   0.0     0.0  0.0  0.0  0.0  0.0  0.0   0.0    0.0  ...  0.0   \n",
       "1   ham   0.0     0.0  0.0  0.0  0.0  0.0  0.0   0.0    0.0  ...  0.0   \n",
       "2  spam   0.0     0.0  0.0  0.0  0.0  0.0  0.0   0.0    0.0  ...  0.0   \n",
       "3   ham   0.0     0.0  0.0  0.0  0.0  0.0  0.0   0.0    0.0  ...  0.0   \n",
       "4   ham   0.0     0.0  0.0  0.0  0.0  0.0  0.0   0.0    0.0  ...  0.0   \n",
       "\n",
       "   yesterday  yet   yo  you  your  youre  yours  yourself  yup  \n",
       "0        0.0  0.0  0.0  0.0   0.0    0.0    0.0       0.0  0.0  \n",
       "1        0.0  0.0  0.0  0.0   0.0    0.0    0.0       0.0  0.0  \n",
       "2        0.0  0.0  0.0  0.0   0.0    0.0    0.0       0.0  0.0  \n",
       "3        0.0  0.0  0.0  0.0   0.0    0.0    0.0       0.0  0.0  \n",
       "4        0.0  0.0  0.0  0.0   0.0    0.0    0.0       0.0  0.0  \n",
       "\n",
       "[5 rows x 501 columns]"
      ]
     },
     "execution_count": 258,
     "metadata": {},
     "output_type": "execute_result"
    }
   ],
   "source": [
    "spam_reales.head()"
   ]
  },
  {
   "cell_type": "code",
   "execution_count": 259,
   "metadata": {},
   "outputs": [],
   "source": [
    "train, test = train_test_split(spam_reales, test_size=0.3)"
   ]
  },
  {
   "cell_type": "code",
   "execution_count": 260,
   "metadata": {},
   "outputs": [
    {
     "name": "stdout",
     "output_type": "stream",
     "text": [
      "Accurracy GaussianNB: 0.730%\n"
     ]
    }
   ],
   "source": [
    "gaussianNB = GaussianNB()\n",
    "gaussianNB.fit(train.iloc[:, 1:], train['v1'])\n",
    "gaussianNB.predict(test.drop('v1', axis=1))\n",
    "accuracy = accuracy_score(test['v1'], gaussianNB.predict(test.drop('v1', axis=1)))\n",
    "reales_accurracy.append(accuracy)\n",
    "print(f'Accurracy GaussianNB: {accuracy:.3f}%')"
   ]
  },
  {
   "cell_type": "code",
   "execution_count": 261,
   "metadata": {},
   "outputs": [
    {
     "name": "stdout",
     "output_type": "stream",
     "text": [
      "[[996 440]\n",
      " [ 11 225]]\n"
     ]
    }
   ],
   "source": [
    "gaussian_confusion = confusion_matrix(test['v1'], gaussianNB.predict(test.drop('v1', axis=1)))\n",
    "print(gaussian_confusion)"
   ]
  },
  {
   "cell_type": "code",
   "execution_count": 262,
   "metadata": {},
   "outputs": [
    {
     "name": "stdout",
     "output_type": "stream",
     "text": [
      "True positives: 996\n",
      "False positives: 440\n",
      "False negatives: 11\n",
      "True negatives: 225\n"
     ]
    }
   ],
   "source": [
    "print(f'True positives: {gaussian_confusion[0][0]}')\n",
    "print(f'False positives: {gaussian_confusion[0][1]}')\n",
    "print(f'False negatives: {gaussian_confusion[1][0]}')\n",
    "print(f'True negatives: {gaussian_confusion[1][1]}')"
   ]
  },
  {
   "cell_type": "code",
   "execution_count": 263,
   "metadata": {},
   "outputs": [
    {
     "name": "stdout",
     "output_type": "stream",
     "text": [
      "Accurracy MultinomialNB: 0.974%\n"
     ]
    }
   ],
   "source": [
    "multinomialNB = MultinomialNB()\n",
    "multinomialNB.fit(train.iloc[:, 1:], train['v1'])\n",
    "multinomialNB.predict(test.drop('v1', axis=1))\n",
    "accuracy = accuracy_score(test['v1'], multinomialNB.predict(test.drop('v1', axis=1)))\n",
    "reales_accurracy.append(accuracy)\n",
    "print(f'Accurracy MultinomialNB: {accuracy:.3f}%')"
   ]
  },
  {
   "cell_type": "code",
   "execution_count": 264,
   "metadata": {},
   "outputs": [
    {
     "name": "stdout",
     "output_type": "stream",
     "text": [
      "[[1435    1]\n",
      " [  43  193]]\n"
     ]
    }
   ],
   "source": [
    "multinomial_confusion = confusion_matrix(test['v1'], multinomialNB.predict(test.drop('v1', axis=1)))\n",
    "print(multinomial_confusion)"
   ]
  },
  {
   "cell_type": "code",
   "execution_count": 265,
   "metadata": {},
   "outputs": [
    {
     "name": "stdout",
     "output_type": "stream",
     "text": [
      "MultinomialNB True positives: 1435\n",
      "MultinomialNB False positives: 1\n",
      "MultinomialNB False negatives: 43\n",
      "MultinomialNB True negatives: 193\n"
     ]
    }
   ],
   "source": [
    "print(f'MultinomialNB True positives: {multinomial_confusion[0][0]}')\n",
    "print(f'MultinomialNB False positives: {multinomial_confusion[0][1]}')\n",
    "print(f'MultinomialNB False negatives: {multinomial_confusion[1][0]}')\n",
    "print(f'MultinomialNB True negatives: {multinomial_confusion[1][1]}')"
   ]
  },
  {
   "cell_type": "code",
   "execution_count": 266,
   "metadata": {},
   "outputs": [
    {
     "name": "stdout",
     "output_type": "stream",
     "text": [
      "Accurracy BernoulliNB: 0.978%\n"
     ]
    }
   ],
   "source": [
    "bernoulliNB = BernoulliNB()\n",
    "bernoulliNB.fit(train.iloc[:, 1:], train['v1'])\n",
    "bernoulliNB.predict(test.drop('v1', axis=1))\n",
    "accuracy = accuracy_score(test['v1'], bernoulliNB.predict(test.drop('v1', axis=1)))\n",
    "reales_accurracy.append(accuracy)\n",
    "print(f'Accurracy BernoulliNB: {accuracy:.3f}%')"
   ]
  },
  {
   "cell_type": "code",
   "execution_count": 267,
   "metadata": {},
   "outputs": [
    {
     "name": "stdout",
     "output_type": "stream",
     "text": [
      "[[1426   10]\n",
      " [  27  209]]\n"
     ]
    }
   ],
   "source": [
    "bernoulli_confusion = confusion_matrix(test['v1'], bernoulliNB.predict(test.drop('v1', axis=1)))\n",
    "print(bernoulli_confusion)"
   ]
  },
  {
   "cell_type": "code",
   "execution_count": 268,
   "metadata": {},
   "outputs": [
    {
     "name": "stdout",
     "output_type": "stream",
     "text": [
      "BernoulliNB True positives: 1426\n",
      "BernoulliNB False positives: 10\n",
      "BernoulliNB False negatives: 27\n",
      "BernoulliNB True negatives: 209\n"
     ]
    }
   ],
   "source": [
    "print(f'BernoulliNB True positives: {bernoulli_confusion[0][0]}')\n",
    "print(f'BernoulliNB False positives: {bernoulli_confusion[0][1]}')\n",
    "print(f'BernoulliNB False negatives: {bernoulli_confusion[1][0]}')\n",
    "print(f'BernoulliNB True negatives: {bernoulli_confusion[1][1]}')"
   ]
  },
  {
   "cell_type": "code",
   "execution_count": 269,
   "metadata": {},
   "outputs": [
    {
     "name": "stdout",
     "output_type": "stream",
     "text": [
      "Accurracy ComplementNB: 0.942%\n"
     ]
    }
   ],
   "source": [
    "complementNB = ComplementNB()\n",
    "complementNB.fit(train.iloc[:, 1:], train['v1'])\n",
    "complementNB.predict(test.drop('v1', axis=1))\n",
    "accuracy = accuracy_score(test['v1'], complementNB.predict(test.drop('v1', axis=1)))\n",
    "reales_accurracy.append(accuracy)\n",
    "print(f'Accurracy ComplementNB: {accuracy:.3f}%')"
   ]
  },
  {
   "cell_type": "code",
   "execution_count": 270,
   "metadata": {},
   "outputs": [
    {
     "name": "stdout",
     "output_type": "stream",
     "text": [
      "[[1350   86]\n",
      " [  11  225]]\n"
     ]
    }
   ],
   "source": [
    "complement_confusion = confusion_matrix(test['v1'], complementNB.predict(test.drop('v1', axis=1)))\n",
    "print(complement_confusion)"
   ]
  },
  {
   "cell_type": "code",
   "execution_count": 271,
   "metadata": {},
   "outputs": [
    {
     "name": "stdout",
     "output_type": "stream",
     "text": [
      "ComplemetNB True positives: 1350\n",
      "ComplemetNB False positives: 86\n",
      "ComplemetNB False negatives: 11\n",
      "ComplemetNB True negatives: 225\n"
     ]
    }
   ],
   "source": [
    "print(f'ComplemetNB True positives: {complement_confusion[0][0]}')\n",
    "print(f'ComplemetNB False positives: {complement_confusion[0][1]}')\n",
    "print(f'ComplemetNB False negatives: {complement_confusion[1][0]}')\n",
    "print(f'ComplemetNB True negatives: {complement_confusion[1][1]}')"
   ]
  },
  {
   "attachments": {},
   "cell_type": "markdown",
   "metadata": {},
   "source": [
    "`spam_preproceado_binario`"
   ]
  },
  {
   "cell_type": "code",
   "execution_count": 272,
   "metadata": {},
   "outputs": [],
   "source": [
    "spam_binario = pd.read_csv('spam_preprocesado_binario.csv')"
   ]
  },
  {
   "cell_type": "code",
   "execution_count": 273,
   "metadata": {},
   "outputs": [
    {
     "data": {
      "text/html": [
       "<div>\n",
       "<style scoped>\n",
       "    .dataframe tbody tr th:only-of-type {\n",
       "        vertical-align: middle;\n",
       "    }\n",
       "\n",
       "    .dataframe tbody tr th {\n",
       "        vertical-align: top;\n",
       "    }\n",
       "\n",
       "    .dataframe thead th {\n",
       "        text-align: right;\n",
       "    }\n",
       "</style>\n",
       "<table border=\"1\" class=\"dataframe\">\n",
       "  <thead>\n",
       "    <tr style=\"text-align: right;\">\n",
       "      <th></th>\n",
       "      <th>v1</th>\n",
       "      <th>150p</th>\n",
       "      <th>150ppm</th>\n",
       "      <th>16</th>\n",
       "      <th>18</th>\n",
       "      <th>1st</th>\n",
       "      <th>2nd</th>\n",
       "      <th>500</th>\n",
       "      <th>a100</th>\n",
       "      <th>a1000</th>\n",
       "      <th>...</th>\n",
       "      <th>yes</th>\n",
       "      <th>yesterday</th>\n",
       "      <th>yet</th>\n",
       "      <th>yo</th>\n",
       "      <th>you</th>\n",
       "      <th>your</th>\n",
       "      <th>youre</th>\n",
       "      <th>yours</th>\n",
       "      <th>yourself</th>\n",
       "      <th>yup</th>\n",
       "    </tr>\n",
       "  </thead>\n",
       "  <tbody>\n",
       "    <tr>\n",
       "      <th>0</th>\n",
       "      <td>ham</td>\n",
       "      <td>0</td>\n",
       "      <td>0</td>\n",
       "      <td>0</td>\n",
       "      <td>0</td>\n",
       "      <td>0</td>\n",
       "      <td>0</td>\n",
       "      <td>0</td>\n",
       "      <td>0</td>\n",
       "      <td>0</td>\n",
       "      <td>...</td>\n",
       "      <td>0</td>\n",
       "      <td>0</td>\n",
       "      <td>0</td>\n",
       "      <td>0</td>\n",
       "      <td>0</td>\n",
       "      <td>0</td>\n",
       "      <td>0</td>\n",
       "      <td>0</td>\n",
       "      <td>0</td>\n",
       "      <td>0</td>\n",
       "    </tr>\n",
       "    <tr>\n",
       "      <th>1</th>\n",
       "      <td>ham</td>\n",
       "      <td>0</td>\n",
       "      <td>0</td>\n",
       "      <td>0</td>\n",
       "      <td>0</td>\n",
       "      <td>0</td>\n",
       "      <td>0</td>\n",
       "      <td>0</td>\n",
       "      <td>0</td>\n",
       "      <td>0</td>\n",
       "      <td>...</td>\n",
       "      <td>0</td>\n",
       "      <td>0</td>\n",
       "      <td>0</td>\n",
       "      <td>0</td>\n",
       "      <td>0</td>\n",
       "      <td>0</td>\n",
       "      <td>0</td>\n",
       "      <td>0</td>\n",
       "      <td>0</td>\n",
       "      <td>0</td>\n",
       "    </tr>\n",
       "    <tr>\n",
       "      <th>2</th>\n",
       "      <td>spam</td>\n",
       "      <td>0</td>\n",
       "      <td>0</td>\n",
       "      <td>0</td>\n",
       "      <td>0</td>\n",
       "      <td>0</td>\n",
       "      <td>0</td>\n",
       "      <td>0</td>\n",
       "      <td>0</td>\n",
       "      <td>0</td>\n",
       "      <td>...</td>\n",
       "      <td>0</td>\n",
       "      <td>0</td>\n",
       "      <td>0</td>\n",
       "      <td>0</td>\n",
       "      <td>0</td>\n",
       "      <td>0</td>\n",
       "      <td>0</td>\n",
       "      <td>0</td>\n",
       "      <td>0</td>\n",
       "      <td>0</td>\n",
       "    </tr>\n",
       "    <tr>\n",
       "      <th>3</th>\n",
       "      <td>ham</td>\n",
       "      <td>0</td>\n",
       "      <td>0</td>\n",
       "      <td>0</td>\n",
       "      <td>0</td>\n",
       "      <td>0</td>\n",
       "      <td>0</td>\n",
       "      <td>0</td>\n",
       "      <td>0</td>\n",
       "      <td>0</td>\n",
       "      <td>...</td>\n",
       "      <td>0</td>\n",
       "      <td>0</td>\n",
       "      <td>0</td>\n",
       "      <td>0</td>\n",
       "      <td>0</td>\n",
       "      <td>0</td>\n",
       "      <td>0</td>\n",
       "      <td>0</td>\n",
       "      <td>0</td>\n",
       "      <td>0</td>\n",
       "    </tr>\n",
       "    <tr>\n",
       "      <th>4</th>\n",
       "      <td>ham</td>\n",
       "      <td>0</td>\n",
       "      <td>0</td>\n",
       "      <td>0</td>\n",
       "      <td>0</td>\n",
       "      <td>0</td>\n",
       "      <td>0</td>\n",
       "      <td>0</td>\n",
       "      <td>0</td>\n",
       "      <td>0</td>\n",
       "      <td>...</td>\n",
       "      <td>0</td>\n",
       "      <td>0</td>\n",
       "      <td>0</td>\n",
       "      <td>0</td>\n",
       "      <td>0</td>\n",
       "      <td>0</td>\n",
       "      <td>0</td>\n",
       "      <td>0</td>\n",
       "      <td>0</td>\n",
       "      <td>0</td>\n",
       "    </tr>\n",
       "  </tbody>\n",
       "</table>\n",
       "<p>5 rows × 501 columns</p>\n",
       "</div>"
      ],
      "text/plain": [
       "     v1  150p  150ppm  16  18  1st  2nd  500  a100  a1000  ...  yes  \\\n",
       "0   ham     0       0   0   0    0    0    0     0      0  ...    0   \n",
       "1   ham     0       0   0   0    0    0    0     0      0  ...    0   \n",
       "2  spam     0       0   0   0    0    0    0     0      0  ...    0   \n",
       "3   ham     0       0   0   0    0    0    0     0      0  ...    0   \n",
       "4   ham     0       0   0   0    0    0    0     0      0  ...    0   \n",
       "\n",
       "   yesterday  yet  yo  you  your  youre  yours  yourself  yup  \n",
       "0          0    0   0    0     0      0      0         0    0  \n",
       "1          0    0   0    0     0      0      0         0    0  \n",
       "2          0    0   0    0     0      0      0         0    0  \n",
       "3          0    0   0    0     0      0      0         0    0  \n",
       "4          0    0   0    0     0      0      0         0    0  \n",
       "\n",
       "[5 rows x 501 columns]"
      ]
     },
     "execution_count": 273,
     "metadata": {},
     "output_type": "execute_result"
    }
   ],
   "source": [
    "spam_binario.head()"
   ]
  },
  {
   "cell_type": "code",
   "execution_count": 274,
   "metadata": {},
   "outputs": [],
   "source": [
    "train, test = train_test_split(spam_binario, test_size=0.3)"
   ]
  },
  {
   "cell_type": "code",
   "execution_count": 275,
   "metadata": {},
   "outputs": [
    {
     "name": "stdout",
     "output_type": "stream",
     "text": [
      "Accurracy GaussianNB: 0.708%\n"
     ]
    }
   ],
   "source": [
    "gaussianNB = GaussianNB()\n",
    "gaussianNB.fit(train.iloc[:, 1:], train['v1'])\n",
    "gaussianNB.predict(test.drop('v1', axis=1))\n",
    "accuracy = accuracy_score(test['v1'], gaussianNB.predict(test.drop('v1', axis=1)))\n",
    "binarios_accurracy.append(accuracy)\n",
    "print(f'Accurracy GaussianNB: {accuracy:.3f}%')"
   ]
  },
  {
   "cell_type": "code",
   "execution_count": 276,
   "metadata": {},
   "outputs": [
    {
     "name": "stdout",
     "output_type": "stream",
     "text": [
      "[[975 478]\n",
      " [ 10 209]]\n"
     ]
    }
   ],
   "source": [
    "gaussian_confusion = confusion_matrix(test['v1'], gaussianNB.predict(test.drop('v1', axis=1)))\n",
    "print(gaussian_confusion)"
   ]
  },
  {
   "cell_type": "code",
   "execution_count": 277,
   "metadata": {},
   "outputs": [
    {
     "name": "stdout",
     "output_type": "stream",
     "text": [
      "True positives: 975\n",
      "False positives: 478\n",
      "False negatives: 10\n",
      "True negatives: 209\n"
     ]
    }
   ],
   "source": [
    "print(f'True positives: {gaussian_confusion[0][0]}')\n",
    "print(f'False positives: {gaussian_confusion[0][1]}')\n",
    "print(f'False negatives: {gaussian_confusion[1][0]}')\n",
    "print(f'True negatives: {gaussian_confusion[1][1]}')"
   ]
  },
  {
   "cell_type": "code",
   "execution_count": 278,
   "metadata": {},
   "outputs": [
    {
     "name": "stdout",
     "output_type": "stream",
     "text": [
      "Accurracy MultinomialNB: 0.975%\n"
     ]
    }
   ],
   "source": [
    "multinomialNB = MultinomialNB()\n",
    "multinomialNB.fit(train.iloc[:, 1:], train['v1'])\n",
    "multinomialNB.predict(test.drop('v1', axis=1))\n",
    "accuracy = accuracy_score(test['v1'], multinomialNB.predict(test.drop('v1', axis=1)))\n",
    "binarios_accurracy.append(accuracy)\n",
    "print(f'Accurracy MultinomialNB: {accuracy:.3f}%')"
   ]
  },
  {
   "cell_type": "code",
   "execution_count": 279,
   "metadata": {},
   "outputs": [
    {
     "name": "stdout",
     "output_type": "stream",
     "text": [
      "[[1435   18]\n",
      " [  24  195]]\n"
     ]
    }
   ],
   "source": [
    "multinomial_confusion = confusion_matrix(test['v1'], multinomialNB.predict(test.drop('v1', axis=1)))\n",
    "print(multinomial_confusion)"
   ]
  },
  {
   "cell_type": "code",
   "execution_count": 280,
   "metadata": {},
   "outputs": [
    {
     "name": "stdout",
     "output_type": "stream",
     "text": [
      "MultinomialNB True positives: 1435\n",
      "MultinomialNB False positives: 18\n",
      "MultinomialNB False negatives: 24\n",
      "MultinomialNB True negatives: 195\n"
     ]
    }
   ],
   "source": [
    "print(f'MultinomialNB True positives: {multinomial_confusion[0][0]}')\n",
    "print(f'MultinomialNB False positives: {multinomial_confusion[0][1]}')\n",
    "print(f'MultinomialNB False negatives: {multinomial_confusion[1][0]}')\n",
    "print(f'MultinomialNB True negatives: {multinomial_confusion[1][1]}')"
   ]
  },
  {
   "cell_type": "code",
   "execution_count": 281,
   "metadata": {},
   "outputs": [
    {
     "name": "stdout",
     "output_type": "stream",
     "text": [
      "Accurracy BernoulliNB: 0.978%\n"
     ]
    }
   ],
   "source": [
    "bernoulliNB = BernoulliNB()\n",
    "bernoulliNB.fit(train.iloc[:, 1:], train['v1'])\n",
    "bernoulliNB.predict(test.drop('v1', axis=1))\n",
    "accuracy = accuracy_score(test['v1'], bernoulliNB.predict(test.drop('v1', axis=1)))\n",
    "binarios_accurracy.append(accuracy)\n",
    "print(f'Accurracy BernoulliNB: {accuracy:.3f}%')"
   ]
  },
  {
   "cell_type": "code",
   "execution_count": 282,
   "metadata": {},
   "outputs": [
    {
     "name": "stdout",
     "output_type": "stream",
     "text": [
      "[[1445    8]\n",
      " [  29  190]]\n"
     ]
    }
   ],
   "source": [
    "bernoulli_confusion = confusion_matrix(test['v1'], bernoulliNB.predict(test.drop('v1', axis=1)))\n",
    "print(bernoulli_confusion)"
   ]
  },
  {
   "cell_type": "code",
   "execution_count": 283,
   "metadata": {},
   "outputs": [
    {
     "name": "stdout",
     "output_type": "stream",
     "text": [
      "BernoulliNB True positives: 1445\n",
      "BernoulliNB False positives: 8\n",
      "BernoulliNB False negatives: 29\n",
      "BernoulliNB True negatives: 190\n"
     ]
    }
   ],
   "source": [
    "print(f'BernoulliNB True positives: {bernoulli_confusion[0][0]}')\n",
    "print(f'BernoulliNB False positives: {bernoulli_confusion[0][1]}')\n",
    "print(f'BernoulliNB False negatives: {bernoulli_confusion[1][0]}')\n",
    "print(f'BernoulliNB True negatives: {bernoulli_confusion[1][1]}')"
   ]
  },
  {
   "cell_type": "code",
   "execution_count": 284,
   "metadata": {},
   "outputs": [
    {
     "name": "stdout",
     "output_type": "stream",
     "text": [
      "Accurracy ComplementNB: 0.950%\n"
     ]
    }
   ],
   "source": [
    "complementNB = ComplementNB()\n",
    "complementNB.fit(train.iloc[:, 1:], train['v1'])\n",
    "complementNB.predict(test.drop('v1', axis=1))\n",
    "accuracy = accuracy_score(test['v1'], complementNB.predict(test.drop('v1', axis=1)))\n",
    "binarios_accurracy.append(accuracy)\n",
    "print(f'Accurracy ComplementNB: {accuracy:.3f}%')"
   ]
  },
  {
   "cell_type": "code",
   "execution_count": 285,
   "metadata": {},
   "outputs": [
    {
     "name": "stdout",
     "output_type": "stream",
     "text": [
      "[[1386   67]\n",
      " [  17  202]]\n"
     ]
    }
   ],
   "source": [
    "complement_confusion = confusion_matrix(test['v1'], complementNB.predict(test.drop('v1', axis=1)))\n",
    "print(complement_confusion)"
   ]
  },
  {
   "cell_type": "code",
   "execution_count": 286,
   "metadata": {},
   "outputs": [
    {
     "name": "stdout",
     "output_type": "stream",
     "text": [
      "ComplemetNB True positives: 1386\n",
      "ComplemetNB False positives: 67\n",
      "ComplemetNB False negatives: 17\n",
      "ComplemetNB True negatives: 202\n"
     ]
    }
   ],
   "source": [
    "print(f'ComplemetNB True positives: {complement_confusion[0][0]}')\n",
    "print(f'ComplemetNB False positives: {complement_confusion[0][1]}')\n",
    "print(f'ComplemetNB False negatives: {complement_confusion[1][0]}')\n",
    "print(f'ComplemetNB True negatives: {complement_confusion[1][1]}')"
   ]
  },
  {
   "cell_type": "code",
   "execution_count": 287,
   "metadata": {},
   "outputs": [
    {
     "data": {
      "text/html": [
       "<div>\n",
       "<style scoped>\n",
       "    .dataframe tbody tr th:only-of-type {\n",
       "        vertical-align: middle;\n",
       "    }\n",
       "\n",
       "    .dataframe tbody tr th {\n",
       "        vertical-align: top;\n",
       "    }\n",
       "\n",
       "    .dataframe thead th {\n",
       "        text-align: right;\n",
       "    }\n",
       "</style>\n",
       "<table border=\"1\" class=\"dataframe\">\n",
       "  <thead>\n",
       "    <tr style=\"text-align: right;\">\n",
       "      <th></th>\n",
       "      <th>Model</th>\n",
       "      <th>Accuracy Reales</th>\n",
       "      <th>Accuracy Binarios</th>\n",
       "    </tr>\n",
       "  </thead>\n",
       "  <tbody>\n",
       "    <tr>\n",
       "      <th>0</th>\n",
       "      <td>GaussianNB</td>\n",
       "      <td>0.730263</td>\n",
       "      <td>0.708134</td>\n",
       "    </tr>\n",
       "    <tr>\n",
       "      <th>1</th>\n",
       "      <td>MultinomialNB</td>\n",
       "      <td>0.973684</td>\n",
       "      <td>0.974880</td>\n",
       "    </tr>\n",
       "    <tr>\n",
       "      <th>2</th>\n",
       "      <td>BernoulliNB</td>\n",
       "      <td>0.977871</td>\n",
       "      <td>0.977871</td>\n",
       "    </tr>\n",
       "    <tr>\n",
       "      <th>3</th>\n",
       "      <td>ComplementNB</td>\n",
       "      <td>0.941986</td>\n",
       "      <td>0.949761</td>\n",
       "    </tr>\n",
       "  </tbody>\n",
       "</table>\n",
       "</div>"
      ],
      "text/plain": [
       "           Model  Accuracy Reales  Accuracy Binarios\n",
       "0     GaussianNB         0.730263           0.708134\n",
       "1  MultinomialNB         0.973684           0.974880\n",
       "2    BernoulliNB         0.977871           0.977871\n",
       "3   ComplementNB         0.941986           0.949761"
      ]
     },
     "execution_count": 287,
     "metadata": {},
     "output_type": "execute_result"
    }
   ],
   "source": [
    "models = ['GaussianNB', 'MultinomialNB', 'BernoulliNB', 'ComplementNB']\n",
    "data = {'Model': models, 'Accuracy Reales': reales_accurracy, 'Accuracy Binarios': binarios_accurracy}\n",
    "acc_df = pd.DataFrame(data)\n",
    "acc_df"
   ]
  },
  {
   "attachments": {},
   "cell_type": "markdown",
   "metadata": {},
   "source": [
    "`BernoulliNB`\n",
    "\n",
    "Con `BernoulliNB` este clasificador es estupendo para casos Binarios. El clasificador asume que las características del conjunto de datos sigue una distribución de Bernoulli. En nuestro caso y en el teoría, este clasificador sería muy bueno para el conjunto de datos `spam_preprocesado_binario` y es cierto, tiene una precisión muy muy alta. Pero sorprendentemente, este también da muy buenos resultados en el conjunto de datos `spam_preprocesado_binario`, que este conjunto no es binario y solo recoge las frecuncias de las palabras."
   ]
  },
  {
   "attachments": {},
   "cell_type": "markdown",
   "metadata": {},
   "source": [
    "`ComplementNB`\n",
    "\n",
    "El clasificador `ComplementNB` es bastante parecido al clasificador `MultinomialNB` pero a diferencia de este, este sirve para conjuntos de datos desequilibrados. Este quiere decir, que este es más efectivo en conjuntos de datos, donde una característica es más frecuente que otra. Esta sirve también para la clasificación de palabras y texto ya que en el lenguaje natural, la distribución de palabras que utilizamos no es equitativa para todas las palabras, de ahí su alta precisión."
   ]
  },
  {
   "attachments": {},
   "cell_type": "markdown",
   "metadata": {},
   "source": [
    "`MultinomialNB`\n",
    "\n",
    "Con este clasificador, podemos ver un salto de mejora en cuanto a la precisión de la predicción con respecto al clasificador anterior. `GaussianNB` trata de asumir una distribución normal para la características, en cambio, `MultinomialNB`, asume una distribución multinomial discreta. Esta es muy buena para el conteo de muestras discretas, como es nuestro caso. En nuestro caso realizamos tanto un conteo por frecuencias de las palabras y una detección binaria si dicha palabra está en el contenido del texto."
   ]
  },
  {
   "attachments": {},
   "cell_type": "markdown",
   "metadata": {},
   "source": [
    "`GaussianNB`\n",
    "\n",
    "En la teoría, puesto sobre el papel, `GaussianNB` es el mejor para este tipo de clasificaciones, sobre todo el caso de los reales. Pero como podemos observar, este clasificador es bastante malo para este caso y peor aún, para el conjunto de datos binarios."
   ]
  },
  {
   "attachments": {},
   "cell_type": "markdown",
   "metadata": {},
   "source": [
    "### Tarea 2: Comparación de clasificación de mensajes spam\n",
    "Para poder comprobar el rendimiento del clasificador Naive Bayes en la clasificación de mensajes SMS como legítimos o spam, se debería comparar los resultados con otros clasificadores. Por tanto, en esta tarea se realizará la clasificación de los dos conjuntos anteriores con diferentes clasificadores de los utilizados hasta ahora en las prácticas y de esta manera comprobar la bondad del clasificador Naive Bayes.\n",
    "\n",
    "Así en esta tarea se deberá realizar lo siguiente:\n",
    "- Dividir los conjuntos de entrenamiento en train (70%) y test (30%).\n",
    "- Entrenar los clasificadores vistos en las prácticas anteriores (Perceptron, Regresión Logística, SVM, Vecinos más Cercanos).\n",
    "- Mostrar en una tabla para cada conjunto de datos, los valores de la tasa de acierto (accuracy).\n",
    "- Analizar y explicar los resultados obtenidos."
   ]
  },
  {
   "cell_type": "code",
   "execution_count": 288,
   "metadata": {},
   "outputs": [],
   "source": [
    "from sklearn.svm import SVC\n",
    "from sklearn.neighbors import KNeighborsClassifier\n",
    "from sklearn.linear_model import LogisticRegression\n",
    "from sklearn.linear_model import Perceptron\n",
    "from sklearn.model_selection import train_test_split\n",
    "from sklearn.metrics import accuracy_score"
   ]
  },
  {
   "attachments": {},
   "cell_type": "markdown",
   "metadata": {},
   "source": [
    "Cargamos los datos de ambos csv"
   ]
  },
  {
   "cell_type": "code",
   "execution_count": 289,
   "metadata": {},
   "outputs": [],
   "source": [
    "spam_reales_2 = pd.read_csv('spam_preprocesado_reales.csv', sep=',')\n",
    "spam_binario_2 = pd.read_csv('spam_preprocesado_binario.csv', sep=',')"
   ]
  },
  {
   "attachments": {},
   "cell_type": "markdown",
   "metadata": {},
   "source": [
    "Cambiamos el nombre de la variable 'v1' a 'result', ya que no es descriptiva"
   ]
  },
  {
   "cell_type": "code",
   "execution_count": 290,
   "metadata": {},
   "outputs": [],
   "source": [
    "spam_reales_2.rename(columns={'v1':'result'}, inplace=True)\n",
    "spam_binario_2.rename(columns={'v1':'result'}, inplace=True)"
   ]
  },
  {
   "attachments": {},
   "cell_type": "markdown",
   "metadata": {},
   "source": [
    "##### Dividir los conjuntos de entrenamiento en train (70%) y test (30%)."
   ]
  },
  {
   "cell_type": "code",
   "execution_count": 291,
   "metadata": {},
   "outputs": [],
   "source": [
    "x_train_real, x_test_real, y_train_real, y_test_real = train_test_split(spam_reales_2.drop('result', axis=1), spam_reales_2['result'], test_size=0.3, random_state=0)\n",
    "x_train_bin, x_test_bin, y_train_bin, y_test_bin = train_test_split(spam_binario_2.drop('result', axis=1), spam_binario_2['result'], test_size=0.3, random_state=0)"
   ]
  },
  {
   "attachments": {},
   "cell_type": "markdown",
   "metadata": {},
   "source": [
    "##### Entrenar los clasificadores vistos en las prácticas anteriores (Perceptron, Regresión Logística, SVM, Vecinos más Cercanos)."
   ]
  },
  {
   "cell_type": "code",
   "execution_count": 292,
   "metadata": {},
   "outputs": [],
   "source": [
    "data = [[x_train_real, x_test_real, y_train_real, y_test_real, 'Real'], [x_train_bin, x_test_bin, y_train_bin, y_test_bin, 'Binario']]"
   ]
  },
  {
   "cell_type": "code",
   "execution_count": 293,
   "metadata": {},
   "outputs": [],
   "source": [
    "results_perceptron = pd.DataFrame()\n",
    "for list in data:\n",
    "    perceptron = Perceptron()\n",
    "    perceptron.fit(list[0], list[2])\n",
    "    yhat = perceptron.predict(list[1])\n",
    "    results_perceptron[f'Acurracy {list[4]}'] = [accuracy_score(list[3], yhat)]\n",
    "results_perceptron.index = ['Perceptron']"
   ]
  },
  {
   "cell_type": "code",
   "execution_count": 294,
   "metadata": {},
   "outputs": [],
   "source": [
    "results_logistic = pd.DataFrame()\n",
    "for list in data:\n",
    "    logistic = LogisticRegression()\n",
    "    logistic.fit(list[0], list[2])\n",
    "    yhat = logistic.predict(list[1])\n",
    "    results_logistic[f'Acurracy {list[4]}'] = [accuracy_score(list[3], yhat)]\n",
    "results_logistic.index = ['Logistic']"
   ]
  },
  {
   "cell_type": "code",
   "execution_count": 295,
   "metadata": {},
   "outputs": [],
   "source": [
    "results_svc = pd.DataFrame()\n",
    "c_list = [0.01, 0.1, 1, 10]\n",
    "type_list = ['linear', 'poly', 'rbf']\n",
    "for list in data:\n",
    "    accuracy_list = []\n",
    "    index = []\n",
    "    for i in type_list:\n",
    "        for j in c_list:\n",
    "            svc = SVC(kernel=i, C=j)\n",
    "            svc.fit(list[0], list[2])\n",
    "            yhat = svc.predict(list[1])\n",
    "            accuracy_list.append(accuracy_score(list[3], yhat))\n",
    "            index.append(f'SVC {i} {j}')\n",
    "    results_svc[f'Acurracy {list[4]}'] = accuracy_list\n",
    "    results_svc.index = index"
   ]
  },
  {
   "cell_type": "code",
   "execution_count": 296,
   "metadata": {},
   "outputs": [],
   "source": [
    "results_knn = pd.DataFrame()\n",
    "for list in data:\n",
    "    accuracy_list = []\n",
    "    index = []\n",
    "    for i in range(1,11):\n",
    "        knn = KNeighborsClassifier(n_neighbors=i)\n",
    "        knn.fit(list[0], list[2])\n",
    "        yhat = knn.predict(list[1])\n",
    "        accuracy_list.append(accuracy_score(list[3], yhat))\n",
    "        index.append(f'KNN {i}')\n",
    "    results_knn[f'Acurracy {list[4]}'] = accuracy_list\n",
    "    results_knn.index = index"
   ]
  },
  {
   "attachments": {},
   "cell_type": "markdown",
   "metadata": {},
   "source": [
    "##### Mostrar en una tabla para cada conjunto de datos, los valores de la tasa de acierto (accuracy)."
   ]
  },
  {
   "cell_type": "code",
   "execution_count": 297,
   "metadata": {},
   "outputs": [],
   "source": [
    "result = pd.concat([results_perceptron,results_logistic,results_svc,results_knn])"
   ]
  },
  {
   "cell_type": "code",
   "execution_count": 298,
   "metadata": {},
   "outputs": [
    {
     "data": {
      "text/html": [
       "<div>\n",
       "<style scoped>\n",
       "    .dataframe tbody tr th:only-of-type {\n",
       "        vertical-align: middle;\n",
       "    }\n",
       "\n",
       "    .dataframe tbody tr th {\n",
       "        vertical-align: top;\n",
       "    }\n",
       "\n",
       "    .dataframe thead th {\n",
       "        text-align: right;\n",
       "    }\n",
       "</style>\n",
       "<table border=\"1\" class=\"dataframe\">\n",
       "  <thead>\n",
       "    <tr style=\"text-align: right;\">\n",
       "      <th></th>\n",
       "      <th>Acurracy Real</th>\n",
       "      <th>Acurracy Binario</th>\n",
       "    </tr>\n",
       "  </thead>\n",
       "  <tbody>\n",
       "    <tr>\n",
       "      <th>Perceptron</th>\n",
       "      <td>0.975478</td>\n",
       "      <td>0.972488</td>\n",
       "    </tr>\n",
       "    <tr>\n",
       "      <th>Logistic</th>\n",
       "      <td>0.963517</td>\n",
       "      <td>0.979665</td>\n",
       "    </tr>\n",
       "    <tr>\n",
       "      <th>SVC linear 0.01</th>\n",
       "      <td>0.857656</td>\n",
       "      <td>0.946770</td>\n",
       "    </tr>\n",
       "    <tr>\n",
       "      <th>SVC linear 0.1</th>\n",
       "      <td>0.946770</td>\n",
       "      <td>0.975478</td>\n",
       "    </tr>\n",
       "    <tr>\n",
       "      <th>SVC linear 1</th>\n",
       "      <td>0.971292</td>\n",
       "      <td>0.979067</td>\n",
       "    </tr>\n",
       "    <tr>\n",
       "      <th>SVC linear 10</th>\n",
       "      <td>0.977273</td>\n",
       "      <td>0.962919</td>\n",
       "    </tr>\n",
       "    <tr>\n",
       "      <th>SVC poly 0.01</th>\n",
       "      <td>0.857656</td>\n",
       "      <td>0.859450</td>\n",
       "    </tr>\n",
       "    <tr>\n",
       "      <th>SVC poly 0.1</th>\n",
       "      <td>0.858254</td>\n",
       "      <td>0.914474</td>\n",
       "    </tr>\n",
       "    <tr>\n",
       "      <th>SVC poly 1</th>\n",
       "      <td>0.958134</td>\n",
       "      <td>0.955742</td>\n",
       "    </tr>\n",
       "    <tr>\n",
       "      <th>SVC poly 10</th>\n",
       "      <td>0.958134</td>\n",
       "      <td>0.962919</td>\n",
       "    </tr>\n",
       "    <tr>\n",
       "      <th>SVC rbf 0.01</th>\n",
       "      <td>0.857656</td>\n",
       "      <td>0.857656</td>\n",
       "    </tr>\n",
       "    <tr>\n",
       "      <th>SVC rbf 0.1</th>\n",
       "      <td>0.892344</td>\n",
       "      <td>0.876196</td>\n",
       "    </tr>\n",
       "    <tr>\n",
       "      <th>SVC rbf 1</th>\n",
       "      <td>0.975478</td>\n",
       "      <td>0.974880</td>\n",
       "    </tr>\n",
       "    <tr>\n",
       "      <th>SVC rbf 10</th>\n",
       "      <td>0.979665</td>\n",
       "      <td>0.977273</td>\n",
       "    </tr>\n",
       "    <tr>\n",
       "      <th>KNN 1</th>\n",
       "      <td>0.955144</td>\n",
       "      <td>0.949761</td>\n",
       "    </tr>\n",
       "    <tr>\n",
       "      <th>KNN 2</th>\n",
       "      <td>0.940789</td>\n",
       "      <td>0.934211</td>\n",
       "    </tr>\n",
       "    <tr>\n",
       "      <th>KNN 3</th>\n",
       "      <td>0.939593</td>\n",
       "      <td>0.938397</td>\n",
       "    </tr>\n",
       "    <tr>\n",
       "      <th>KNN 4</th>\n",
       "      <td>0.924641</td>\n",
       "      <td>0.919856</td>\n",
       "    </tr>\n",
       "    <tr>\n",
       "      <th>KNN 5</th>\n",
       "      <td>0.924641</td>\n",
       "      <td>0.925837</td>\n",
       "    </tr>\n",
       "    <tr>\n",
       "      <th>KNN 6</th>\n",
       "      <td>0.909689</td>\n",
       "      <td>0.910287</td>\n",
       "    </tr>\n",
       "    <tr>\n",
       "      <th>KNN 7</th>\n",
       "      <td>0.909689</td>\n",
       "      <td>0.912081</td>\n",
       "    </tr>\n",
       "    <tr>\n",
       "      <th>KNN 8</th>\n",
       "      <td>0.898325</td>\n",
       "      <td>0.904904</td>\n",
       "    </tr>\n",
       "    <tr>\n",
       "      <th>KNN 9</th>\n",
       "      <td>0.898325</td>\n",
       "      <td>0.904904</td>\n",
       "    </tr>\n",
       "    <tr>\n",
       "      <th>KNN 10</th>\n",
       "      <td>0.890550</td>\n",
       "      <td>0.898325</td>\n",
       "    </tr>\n",
       "  </tbody>\n",
       "</table>\n",
       "</div>"
      ],
      "text/plain": [
       "                 Acurracy Real  Acurracy Binario\n",
       "Perceptron            0.975478          0.972488\n",
       "Logistic              0.963517          0.979665\n",
       "SVC linear 0.01       0.857656          0.946770\n",
       "SVC linear 0.1        0.946770          0.975478\n",
       "SVC linear 1          0.971292          0.979067\n",
       "SVC linear 10         0.977273          0.962919\n",
       "SVC poly 0.01         0.857656          0.859450\n",
       "SVC poly 0.1          0.858254          0.914474\n",
       "SVC poly 1            0.958134          0.955742\n",
       "SVC poly 10           0.958134          0.962919\n",
       "SVC rbf 0.01          0.857656          0.857656\n",
       "SVC rbf 0.1           0.892344          0.876196\n",
       "SVC rbf 1             0.975478          0.974880\n",
       "SVC rbf 10            0.979665          0.977273\n",
       "KNN 1                 0.955144          0.949761\n",
       "KNN 2                 0.940789          0.934211\n",
       "KNN 3                 0.939593          0.938397\n",
       "KNN 4                 0.924641          0.919856\n",
       "KNN 5                 0.924641          0.925837\n",
       "KNN 6                 0.909689          0.910287\n",
       "KNN 7                 0.909689          0.912081\n",
       "KNN 8                 0.898325          0.904904\n",
       "KNN 9                 0.898325          0.904904\n",
       "KNN 10                0.890550          0.898325"
      ]
     },
     "execution_count": 298,
     "metadata": {},
     "output_type": "execute_result"
    }
   ],
   "source": [
    "result"
   ]
  },
  {
   "attachments": {},
   "cell_type": "markdown",
   "metadata": {},
   "source": [
    "Mostramos los mejores valores para el csv de spam real"
   ]
  },
  {
   "cell_type": "code",
   "execution_count": 299,
   "metadata": {},
   "outputs": [
    {
     "data": {
      "text/html": [
       "<div>\n",
       "<style scoped>\n",
       "    .dataframe tbody tr th:only-of-type {\n",
       "        vertical-align: middle;\n",
       "    }\n",
       "\n",
       "    .dataframe tbody tr th {\n",
       "        vertical-align: top;\n",
       "    }\n",
       "\n",
       "    .dataframe thead th {\n",
       "        text-align: right;\n",
       "    }\n",
       "</style>\n",
       "<table border=\"1\" class=\"dataframe\">\n",
       "  <thead>\n",
       "    <tr style=\"text-align: right;\">\n",
       "      <th></th>\n",
       "      <th>Acurracy Real</th>\n",
       "      <th>Acurracy Binario</th>\n",
       "    </tr>\n",
       "  </thead>\n",
       "  <tbody>\n",
       "    <tr>\n",
       "      <th>SVC rbf 10</th>\n",
       "      <td>0.979665</td>\n",
       "      <td>0.977273</td>\n",
       "    </tr>\n",
       "    <tr>\n",
       "      <th>SVC linear 10</th>\n",
       "      <td>0.977273</td>\n",
       "      <td>0.962919</td>\n",
       "    </tr>\n",
       "    <tr>\n",
       "      <th>Perceptron</th>\n",
       "      <td>0.975478</td>\n",
       "      <td>0.972488</td>\n",
       "    </tr>\n",
       "    <tr>\n",
       "      <th>SVC rbf 1</th>\n",
       "      <td>0.975478</td>\n",
       "      <td>0.974880</td>\n",
       "    </tr>\n",
       "    <tr>\n",
       "      <th>SVC linear 1</th>\n",
       "      <td>0.971292</td>\n",
       "      <td>0.979067</td>\n",
       "    </tr>\n",
       "    <tr>\n",
       "      <th>Logistic</th>\n",
       "      <td>0.963517</td>\n",
       "      <td>0.979665</td>\n",
       "    </tr>\n",
       "    <tr>\n",
       "      <th>SVC poly 1</th>\n",
       "      <td>0.958134</td>\n",
       "      <td>0.955742</td>\n",
       "    </tr>\n",
       "    <tr>\n",
       "      <th>SVC poly 10</th>\n",
       "      <td>0.958134</td>\n",
       "      <td>0.962919</td>\n",
       "    </tr>\n",
       "    <tr>\n",
       "      <th>KNN 1</th>\n",
       "      <td>0.955144</td>\n",
       "      <td>0.949761</td>\n",
       "    </tr>\n",
       "    <tr>\n",
       "      <th>SVC linear 0.1</th>\n",
       "      <td>0.946770</td>\n",
       "      <td>0.975478</td>\n",
       "    </tr>\n",
       "    <tr>\n",
       "      <th>KNN 2</th>\n",
       "      <td>0.940789</td>\n",
       "      <td>0.934211</td>\n",
       "    </tr>\n",
       "    <tr>\n",
       "      <th>KNN 3</th>\n",
       "      <td>0.939593</td>\n",
       "      <td>0.938397</td>\n",
       "    </tr>\n",
       "    <tr>\n",
       "      <th>KNN 4</th>\n",
       "      <td>0.924641</td>\n",
       "      <td>0.919856</td>\n",
       "    </tr>\n",
       "    <tr>\n",
       "      <th>KNN 5</th>\n",
       "      <td>0.924641</td>\n",
       "      <td>0.925837</td>\n",
       "    </tr>\n",
       "    <tr>\n",
       "      <th>KNN 6</th>\n",
       "      <td>0.909689</td>\n",
       "      <td>0.910287</td>\n",
       "    </tr>\n",
       "    <tr>\n",
       "      <th>KNN 7</th>\n",
       "      <td>0.909689</td>\n",
       "      <td>0.912081</td>\n",
       "    </tr>\n",
       "    <tr>\n",
       "      <th>KNN 8</th>\n",
       "      <td>0.898325</td>\n",
       "      <td>0.904904</td>\n",
       "    </tr>\n",
       "    <tr>\n",
       "      <th>KNN 9</th>\n",
       "      <td>0.898325</td>\n",
       "      <td>0.904904</td>\n",
       "    </tr>\n",
       "    <tr>\n",
       "      <th>SVC rbf 0.1</th>\n",
       "      <td>0.892344</td>\n",
       "      <td>0.876196</td>\n",
       "    </tr>\n",
       "    <tr>\n",
       "      <th>KNN 10</th>\n",
       "      <td>0.890550</td>\n",
       "      <td>0.898325</td>\n",
       "    </tr>\n",
       "    <tr>\n",
       "      <th>SVC poly 0.1</th>\n",
       "      <td>0.858254</td>\n",
       "      <td>0.914474</td>\n",
       "    </tr>\n",
       "    <tr>\n",
       "      <th>SVC rbf 0.01</th>\n",
       "      <td>0.857656</td>\n",
       "      <td>0.857656</td>\n",
       "    </tr>\n",
       "    <tr>\n",
       "      <th>SVC poly 0.01</th>\n",
       "      <td>0.857656</td>\n",
       "      <td>0.859450</td>\n",
       "    </tr>\n",
       "    <tr>\n",
       "      <th>SVC linear 0.01</th>\n",
       "      <td>0.857656</td>\n",
       "      <td>0.946770</td>\n",
       "    </tr>\n",
       "  </tbody>\n",
       "</table>\n",
       "</div>"
      ],
      "text/plain": [
       "                 Acurracy Real  Acurracy Binario\n",
       "SVC rbf 10            0.979665          0.977273\n",
       "SVC linear 10         0.977273          0.962919\n",
       "Perceptron            0.975478          0.972488\n",
       "SVC rbf 1             0.975478          0.974880\n",
       "SVC linear 1          0.971292          0.979067\n",
       "Logistic              0.963517          0.979665\n",
       "SVC poly 1            0.958134          0.955742\n",
       "SVC poly 10           0.958134          0.962919\n",
       "KNN 1                 0.955144          0.949761\n",
       "SVC linear 0.1        0.946770          0.975478\n",
       "KNN 2                 0.940789          0.934211\n",
       "KNN 3                 0.939593          0.938397\n",
       "KNN 4                 0.924641          0.919856\n",
       "KNN 5                 0.924641          0.925837\n",
       "KNN 6                 0.909689          0.910287\n",
       "KNN 7                 0.909689          0.912081\n",
       "KNN 8                 0.898325          0.904904\n",
       "KNN 9                 0.898325          0.904904\n",
       "SVC rbf 0.1           0.892344          0.876196\n",
       "KNN 10                0.890550          0.898325\n",
       "SVC poly 0.1          0.858254          0.914474\n",
       "SVC rbf 0.01          0.857656          0.857656\n",
       "SVC poly 0.01         0.857656          0.859450\n",
       "SVC linear 0.01       0.857656          0.946770"
      ]
     },
     "execution_count": 299,
     "metadata": {},
     "output_type": "execute_result"
    }
   ],
   "source": [
    "result.sort_values(by='Acurracy Real', ascending=False)"
   ]
  },
  {
   "attachments": {},
   "cell_type": "markdown",
   "metadata": {},
   "source": [
    "Mostramos los mejores valores para el conjunto de datos Binario"
   ]
  },
  {
   "cell_type": "code",
   "execution_count": 300,
   "metadata": {},
   "outputs": [
    {
     "data": {
      "text/html": [
       "<div>\n",
       "<style scoped>\n",
       "    .dataframe tbody tr th:only-of-type {\n",
       "        vertical-align: middle;\n",
       "    }\n",
       "\n",
       "    .dataframe tbody tr th {\n",
       "        vertical-align: top;\n",
       "    }\n",
       "\n",
       "    .dataframe thead th {\n",
       "        text-align: right;\n",
       "    }\n",
       "</style>\n",
       "<table border=\"1\" class=\"dataframe\">\n",
       "  <thead>\n",
       "    <tr style=\"text-align: right;\">\n",
       "      <th></th>\n",
       "      <th>Acurracy Real</th>\n",
       "      <th>Acurracy Binario</th>\n",
       "    </tr>\n",
       "  </thead>\n",
       "  <tbody>\n",
       "    <tr>\n",
       "      <th>Logistic</th>\n",
       "      <td>0.963517</td>\n",
       "      <td>0.979665</td>\n",
       "    </tr>\n",
       "    <tr>\n",
       "      <th>SVC linear 1</th>\n",
       "      <td>0.971292</td>\n",
       "      <td>0.979067</td>\n",
       "    </tr>\n",
       "    <tr>\n",
       "      <th>SVC rbf 10</th>\n",
       "      <td>0.979665</td>\n",
       "      <td>0.977273</td>\n",
       "    </tr>\n",
       "    <tr>\n",
       "      <th>SVC linear 0.1</th>\n",
       "      <td>0.946770</td>\n",
       "      <td>0.975478</td>\n",
       "    </tr>\n",
       "    <tr>\n",
       "      <th>SVC rbf 1</th>\n",
       "      <td>0.975478</td>\n",
       "      <td>0.974880</td>\n",
       "    </tr>\n",
       "    <tr>\n",
       "      <th>Perceptron</th>\n",
       "      <td>0.975478</td>\n",
       "      <td>0.972488</td>\n",
       "    </tr>\n",
       "    <tr>\n",
       "      <th>SVC poly 10</th>\n",
       "      <td>0.958134</td>\n",
       "      <td>0.962919</td>\n",
       "    </tr>\n",
       "    <tr>\n",
       "      <th>SVC linear 10</th>\n",
       "      <td>0.977273</td>\n",
       "      <td>0.962919</td>\n",
       "    </tr>\n",
       "    <tr>\n",
       "      <th>SVC poly 1</th>\n",
       "      <td>0.958134</td>\n",
       "      <td>0.955742</td>\n",
       "    </tr>\n",
       "    <tr>\n",
       "      <th>KNN 1</th>\n",
       "      <td>0.955144</td>\n",
       "      <td>0.949761</td>\n",
       "    </tr>\n",
       "    <tr>\n",
       "      <th>SVC linear 0.01</th>\n",
       "      <td>0.857656</td>\n",
       "      <td>0.946770</td>\n",
       "    </tr>\n",
       "    <tr>\n",
       "      <th>KNN 3</th>\n",
       "      <td>0.939593</td>\n",
       "      <td>0.938397</td>\n",
       "    </tr>\n",
       "    <tr>\n",
       "      <th>KNN 2</th>\n",
       "      <td>0.940789</td>\n",
       "      <td>0.934211</td>\n",
       "    </tr>\n",
       "    <tr>\n",
       "      <th>KNN 5</th>\n",
       "      <td>0.924641</td>\n",
       "      <td>0.925837</td>\n",
       "    </tr>\n",
       "    <tr>\n",
       "      <th>KNN 4</th>\n",
       "      <td>0.924641</td>\n",
       "      <td>0.919856</td>\n",
       "    </tr>\n",
       "    <tr>\n",
       "      <th>SVC poly 0.1</th>\n",
       "      <td>0.858254</td>\n",
       "      <td>0.914474</td>\n",
       "    </tr>\n",
       "    <tr>\n",
       "      <th>KNN 7</th>\n",
       "      <td>0.909689</td>\n",
       "      <td>0.912081</td>\n",
       "    </tr>\n",
       "    <tr>\n",
       "      <th>KNN 6</th>\n",
       "      <td>0.909689</td>\n",
       "      <td>0.910287</td>\n",
       "    </tr>\n",
       "    <tr>\n",
       "      <th>KNN 9</th>\n",
       "      <td>0.898325</td>\n",
       "      <td>0.904904</td>\n",
       "    </tr>\n",
       "    <tr>\n",
       "      <th>KNN 8</th>\n",
       "      <td>0.898325</td>\n",
       "      <td>0.904904</td>\n",
       "    </tr>\n",
       "    <tr>\n",
       "      <th>KNN 10</th>\n",
       "      <td>0.890550</td>\n",
       "      <td>0.898325</td>\n",
       "    </tr>\n",
       "    <tr>\n",
       "      <th>SVC rbf 0.1</th>\n",
       "      <td>0.892344</td>\n",
       "      <td>0.876196</td>\n",
       "    </tr>\n",
       "    <tr>\n",
       "      <th>SVC poly 0.01</th>\n",
       "      <td>0.857656</td>\n",
       "      <td>0.859450</td>\n",
       "    </tr>\n",
       "    <tr>\n",
       "      <th>SVC rbf 0.01</th>\n",
       "      <td>0.857656</td>\n",
       "      <td>0.857656</td>\n",
       "    </tr>\n",
       "  </tbody>\n",
       "</table>\n",
       "</div>"
      ],
      "text/plain": [
       "                 Acurracy Real  Acurracy Binario\n",
       "Logistic              0.963517          0.979665\n",
       "SVC linear 1          0.971292          0.979067\n",
       "SVC rbf 10            0.979665          0.977273\n",
       "SVC linear 0.1        0.946770          0.975478\n",
       "SVC rbf 1             0.975478          0.974880\n",
       "Perceptron            0.975478          0.972488\n",
       "SVC poly 10           0.958134          0.962919\n",
       "SVC linear 10         0.977273          0.962919\n",
       "SVC poly 1            0.958134          0.955742\n",
       "KNN 1                 0.955144          0.949761\n",
       "SVC linear 0.01       0.857656          0.946770\n",
       "KNN 3                 0.939593          0.938397\n",
       "KNN 2                 0.940789          0.934211\n",
       "KNN 5                 0.924641          0.925837\n",
       "KNN 4                 0.924641          0.919856\n",
       "SVC poly 0.1          0.858254          0.914474\n",
       "KNN 7                 0.909689          0.912081\n",
       "KNN 6                 0.909689          0.910287\n",
       "KNN 9                 0.898325          0.904904\n",
       "KNN 8                 0.898325          0.904904\n",
       "KNN 10                0.890550          0.898325\n",
       "SVC rbf 0.1           0.892344          0.876196\n",
       "SVC poly 0.01         0.857656          0.859450\n",
       "SVC rbf 0.01          0.857656          0.857656"
      ]
     },
     "execution_count": 300,
     "metadata": {},
     "output_type": "execute_result"
    }
   ],
   "source": [
    "result.sort_values(by='Acurracy Binario', ascending=False)"
   ]
  },
  {
   "attachments": {},
   "cell_type": "markdown",
   "metadata": {},
   "source": [
    "##### Analizar y explicar los resultados obtenidos."
   ]
  },
  {
   "attachments": {},
   "cell_type": "markdown",
   "metadata": {},
   "source": [
    "`Perceptron`\n",
    "\n",
    "En esta prueba, el Perceptrón ha demostrado ser un clasificador sólido, obteniendo el tercer mejor rendimiento en el conjunto de datos real y el sexto en el conjunto de datos binario, con una precisión superior al 97% en ambos casos. Esto es sorprendente considerando que se trata de un clasificador simple con un tiempo de ejecución muy reducido."
   ]
  },
  {
   "attachments": {},
   "cell_type": "markdown",
   "metadata": {},
   "source": [
    "`Logistic Regression`\n",
    "\n",
    "La Regresión Logística se ha destacado como la mejor opción para clasificar el conjunto de datos binarios, con una precisión cercana al 98%, y como la sexta mejor opción para clasificar el conjunto de datos reales. Además, su tiempo de ejecución es bastante corto y al tratarse de un clasificador simple, ha obtenido resultados espectaculares. Por lo tanto, es altamente recomendable si se necesita resultados rápidos y no se dispone de mucho poder de computación."
   ]
  },
  {
   "attachments": {},
   "cell_type": "markdown",
   "metadata": {},
   "source": [
    "`SVC`"
   ]
  },
  {
   "attachments": {},
   "cell_type": "markdown",
   "metadata": {},
   "source": [
    "El clasificador SVC ha demostrado ser una buena opción, siempre y cuando se sepa cómo ajustar sus parámetros. Al usar un kernel lineal con C=1, ha obtenido el segundo mejor rendimiento para el conjunto de datos binarios y, al usar un kernel rbf y C=10, ha sido el mejor clasificador para los datos reales, ambos con una precisión cercana al 98%. Por lo tanto, es altamente recomendable si se busca un único clasificador que proporcione buenos resultados en ambos conjuntos de datos, se dispone de suficiente poder de computación y se ajustan bien sus parámetros."
   ]
  },
  {
   "attachments": {},
   "cell_type": "markdown",
   "metadata": {},
   "source": [
    "`KNN`\n",
    "\n",
    "El clasificador KNN ha obtenido resultados muy deficientes en esta prueba en comparación con los demás clasificadores. En casi ninguno de los conjuntos de datos logra ubicarse en el Top 10, y en el caso en que lo hace, es gracias al clasificador NN, donde solo se comprueba el vecino más cercano (k=1). Por lo tanto, este clasificador no es recomendable para este tipo de ejercicios."
   ]
  },
  {
   "attachments": {},
   "cell_type": "markdown",
   "metadata": {},
   "source": [
    "##### Comparación con Ejercicio 1\n",
    "\n",
    "Por lo que podemos observar, todos los clasificadores del módulo `naive_bayes` es bastante bueno con la excepción del `GaussianNB`. Con los clasificadores que hemos utilizado aquí, todos salvo el K-NN dan resultados muy similires y bastantes buenos como los de `naive_bayes`."
   ]
  }
 ],
 "metadata": {
  "kernelspec": {
   "display_name": "aa1",
   "language": "python",
   "name": "python3"
  },
  "language_info": {
   "codemirror_mode": {
    "name": "ipython",
    "version": 3
   },
   "file_extension": ".py",
   "mimetype": "text/x-python",
   "name": "python",
   "nbconvert_exporter": "python",
   "pygments_lexer": "ipython3",
   "version": "3.9.16"
  },
  "orig_nbformat": 4
 },
 "nbformat": 4,
 "nbformat_minor": 2
}
