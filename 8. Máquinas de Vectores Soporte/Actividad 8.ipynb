{
 "cells": [
  {
   "attachments": {},
   "cell_type": "markdown",
   "metadata": {},
   "source": [
    "# Práctica 8. Máquinas de Vectores Soporte\n",
    "\n",
    "### Grupo 41\n",
    "Alumnos:\n",
    "- Óscar Rico Rodríguez\n",
    "- Jia Hao Yang"
   ]
  },
  {
   "attachments": {},
   "cell_type": "markdown",
   "metadata": {},
   "source": [
    "### Ejercicio 1: Máquina de vectores soporte lineal\n",
    "\n",
    "Como se comentó en el apartado 8.1, la optimización de la ecuación 8.1.1 da lugar a una superficie de decisión lineal que maximiza la separación entre las muestras de las diferentes clases. En prácticas anteriores se han visto otros métodos que también obtienen este tipo de funciones de\n",
    "decisión, por tanto es interesante ver cómo son de diferentes las mismas, según el método empleado para obtenerlas. Así en este primer ejercicio, se obtendrán las superficies de decisión obtenidas para el conjunto de datos sintéticos indicado en el apartado 8.2.1 con una máquina de vectores soporte lineal.\n",
    "\n",
    "Al igual que en las prácticas anteriores, se hará uso de la de la librería sklearn que incluye una implementación de la SVM y que está definida en el módulo svm. En concreto este módulo implementa la clase SVC [15], que permite definir núcleo lineales y que será la que se va a utilizar\n",
    "en esta práctica. Para obtener un SVM lineal con la clase SVC se debe asignar el valor ’linear’ al argumento kernel de la clase. Otro argumento de la clase es el término de regularización C que será un valor mayor que cero.\n",
    "\n",
    "Esta clase comparte la API con otras de las vistas anteriormente e implementa los métodos fit y predict para entrenar el modelo y obtener la clasificación de muestras. Cuando el kernel es lineal como se ha indicado anteriormente, en los atributos de la clase intercept_ y coef_ se\n",
    "encuentran los pesos correspondientes a cada función discriminante. También se puede acceder a los vectores soporte por medio del atributo support_vectors_.\n",
    "\n",
    "Así en este ejercicio se deberá realizar lo siguiente:\n",
    "- Obtener el conjunto de datos datos_svm.csv descrito en el apartado 8.2.1.\n",
    "- Obtener un clasificador SVM lineal para cada uno de los siguientes valores de C, {0.01, 1, 10}, con todas las muestras del conjunto de datos.\n",
    "- Para cada uno de los tres clasificadores anteriores de debe mostrar gráficamente (un gráfico por clasificador): las muestras utilizadas para entrenar, las superficies de decisión y los vectores soporte como cruces rojas.\n",
    "- Analizar los resultados obtenidos dando una explicación de los mismos.\n"
   ]
  },
  {
   "cell_type": "code",
   "execution_count": 1,
   "metadata": {},
   "outputs": [],
   "source": [
    "import os\n",
    "import pandas as pd\n",
    "import numpy as np\n",
    "import matplotlib.pyplot as plt\n",
    "from sklearn.svm import SVC\n",
    "from sklearn.model_selection import train_test_split\n",
    "from sklearn.metrics import accuracy_score"
   ]
  },
  {
   "attachments": {},
   "cell_type": "markdown",
   "metadata": {},
   "source": [
    "#### Obtener el conjunto de datos datos_svm.csv descrito en el apartado 8.2.1."
   ]
  },
  {
   "cell_type": "code",
   "execution_count": 2,
   "metadata": {},
   "outputs": [
    {
     "data": {
      "text/html": [
       "<div>\n",
       "<style scoped>\n",
       "    .dataframe tbody tr th:only-of-type {\n",
       "        vertical-align: middle;\n",
       "    }\n",
       "\n",
       "    .dataframe tbody tr th {\n",
       "        vertical-align: top;\n",
       "    }\n",
       "\n",
       "    .dataframe thead th {\n",
       "        text-align: right;\n",
       "    }\n",
       "</style>\n",
       "<table border=\"1\" class=\"dataframe\">\n",
       "  <thead>\n",
       "    <tr style=\"text-align: right;\">\n",
       "      <th></th>\n",
       "      <th>x1</th>\n",
       "      <th>x2</th>\n",
       "      <th>y</th>\n",
       "    </tr>\n",
       "  </thead>\n",
       "  <tbody>\n",
       "    <tr>\n",
       "      <th>0</th>\n",
       "      <td>1.23</td>\n",
       "      <td>3.79</td>\n",
       "      <td>1</td>\n",
       "    </tr>\n",
       "    <tr>\n",
       "      <th>1</th>\n",
       "      <td>-1.25</td>\n",
       "      <td>-0.64</td>\n",
       "      <td>0</td>\n",
       "    </tr>\n",
       "    <tr>\n",
       "      <th>2</th>\n",
       "      <td>2.31</td>\n",
       "      <td>1.67</td>\n",
       "      <td>1</td>\n",
       "    </tr>\n",
       "    <tr>\n",
       "      <th>3</th>\n",
       "      <td>-0.14</td>\n",
       "      <td>-0.86</td>\n",
       "      <td>0</td>\n",
       "    </tr>\n",
       "    <tr>\n",
       "      <th>4</th>\n",
       "      <td>2.34</td>\n",
       "      <td>2.99</td>\n",
       "      <td>1</td>\n",
       "    </tr>\n",
       "  </tbody>\n",
       "</table>\n",
       "</div>"
      ],
      "text/plain": [
       "     x1    x2  y\n",
       "0  1.23  3.79  1\n",
       "1 -1.25 -0.64  0\n",
       "2  2.31  1.67  1\n",
       "3 -0.14 -0.86  0\n",
       "4  2.34  2.99  1"
      ]
     },
     "execution_count": 2,
     "metadata": {},
     "output_type": "execute_result"
    }
   ],
   "source": [
    "df = pd.read_csv('./datos_svm.csv')\n",
    "df.head()"
   ]
  },
  {
   "attachments": {},
   "cell_type": "markdown",
   "metadata": {},
   "source": [
    "#### Obtener un clasificador SVM lineal para cada uno de los siguientes valores de C, {0.01, 1, 10}, con todas las muestras del conjunto de datos."
   ]
  },
  {
   "cell_type": "code",
   "execution_count": 3,
   "metadata": {},
   "outputs": [],
   "source": [
    "model_001 = SVC(kernel='linear', C=0.01)\n",
    "model_1 = SVC(kernel='linear', C=1)\n",
    "model_10 = SVC(kernel='linear', C=10)"
   ]
  },
  {
   "attachments": {},
   "cell_type": "markdown",
   "metadata": {},
   "source": [
    "#### Para cada uno de los tres clasificadores anteriores de debe mostrar gráficamente (un gráfico por clasificador): las muestras utilizadas para entrenar, las superficies de decisión y los vectores soporte como cruces rojas."
   ]
  },
  {
   "cell_type": "code",
   "execution_count": 4,
   "metadata": {},
   "outputs": [
    {
     "data": {
      "image/png": "[encoded data removed]",
      "text/plain": [
       "<Figure size 1000x600 with 1 Axes>"
      ]
     },
     "metadata": {},
     "output_type": "display_data"
    }
   ],
   "source": [
    "model_001.fit(df[['x1', 'x2']], df['y'])\n",
    "coefs = model_001.coef_\n",
    "intercept = model_001.intercept_\n",
    "sv = model_001.support_vectors_\n",
    "\n",
    "color = ['red', 'blue', 'green']\n",
    "\n",
    "x = df\n",
    "\n",
    "plt.figure(figsize=(10, 6))\n",
    "plt.scatter(df['x1'], df['x2'], c=df['y'], s=30, cmap=plt.cm.Paired)\n",
    "ax = plt.gca()\n",
    "for i, coef in enumerate(coefs):\n",
    "    plt.plot(x, (-(coef[0]/coef[1])*x) -(intercept[i]/coef[1]), color=color[i])\n",
    "\n",
    "ax.scatter(sv[:, 0], sv[:, 1], s=100, \n",
    "           marker='x', c='red', linewidth=1, label='Support Vectors')\n",
    "\n",
    "plt.legend(loc='upper left')\n",
    "plt.ylim(-3, 5.5)\n",
    "plt.xlim(-2, 5.5)\n",
    "plt.show()"
   ]
  },
  {
   "cell_type": "code",
   "execution_count": 5,
   "metadata": {},
   "outputs": [
    {
     "data": {
      "image/png": "[encoded data removed]",
      "text/plain": [
       "<Figure size 1000x600 with 1 Axes>"
      ]
     },
     "metadata": {},
     "output_type": "display_data"
    }
   ],
   "source": [
    "model_1.fit(df[['x1', 'x2']], df['y'])\n",
    "coefs = model_1.coef_\n",
    "intercept = model_1.intercept_\n",
    "sv = model_1.support_vectors_\n",
    "\n",
    "color = ['red', 'blue', 'green']\n",
    "\n",
    "x = df\n",
    "\n",
    "plt.figure(figsize=(10, 6))\n",
    "plt.scatter(df['x1'], df['x2'], c=df['y'], s=30, cmap=plt.cm.Paired)\n",
    "ax = plt.gca()\n",
    "for i, coef in enumerate(coefs):\n",
    "    plt.plot(x, (-(coef[0]/coef[1])*x) -(intercept[i]/coef[1]), color=color[i])\n",
    "\n",
    "ax.scatter(sv[:, 0], sv[:, 1], s=100, \n",
    "           marker='x', c='red', linewidth=1, label='Support Vectors')\n",
    "\n",
    "plt.legend(loc='upper left')\n",
    "plt.ylim(-3, 5.5)\n",
    "plt.xlim(-2, 5.5)\n",
    "plt.show()\n"
   ]
  },
  {
   "cell_type": "code",
   "execution_count": 6,
   "metadata": {},
   "outputs": [
    {
     "data": {
      "image/png": "[encoded data removed]",
      "text/plain": [
       "<Figure size 1000x600 with 1 Axes>"
      ]
     },
     "metadata": {},
     "output_type": "display_data"
    }
   ],
   "source": [
    "model_10.fit(df[['x1', 'x2']], df['y'])\n",
    "coefs = model_10.coef_\n",
    "intercept = model_10.intercept_\n",
    "sv = model_10.support_vectors_\n",
    "\n",
    "color = ['red', 'blue', 'green']\n",
    "\n",
    "x = df\n",
    "\n",
    "plt.figure(figsize=(10, 6))\n",
    "plt.scatter(df['x1'], df['x2'], c=df['y'], s=30, cmap=plt.cm.Paired)\n",
    "ax = plt.gca()\n",
    "for i, coef in enumerate(coefs):\n",
    "    plt.plot(x, (-(coef[0]/coef[1])*x) -(intercept[i]/coef[1]), color=color[i])\n",
    "\n",
    "ax.scatter(sv[:, 0], sv[:, 1], s=100, \n",
    "           marker='x', c='red', linewidth=1, label='Support Vectors')\n",
    "\n",
    "plt.legend(loc='upper left')\n",
    "plt.ylim(-3, 5.5)\n",
    "plt.xlim(-2, 5.5)\n",
    "plt.show()"
   ]
  },
  {
   "attachments": {},
   "cell_type": "markdown",
   "metadata": {},
   "source": [
    "#### Analizar los resultados obtenidos dando una explicación de los mismos."
   ]
  },
  {
   "attachments": {},
   "cell_type": "markdown",
   "metadata": {},
   "source": [
    "Para este ejercicio hemos entrenado 3 modelos de vectores soporte (SVC) usando la clase SVC de sklearn. Cada uno ha sido entrenado con un valor distinto para c {0.01,1,10}, el cual es el nivel de penalización (A menor c menos restrictivo será el modelo para escoger vectores soporte).\n",
    "\n",
    "Primero debemos tener en cuenta que cada línea de color separa una clase de otra, la línea azul separa celestes y marrones, la línea roja separa celestes y naranjas, y la línea verde separa naranjas y marrones.\n",
    "\n",
    "En el primer nivel `c: 0.01`, se puede observar que la cantidad de vectores soporte seleccionados es inmensa, pero, ¿cómo de bien están clasificadas las muestras?\n",
    "\n",
    "Para el primer nivel la clasificación es buena en la mayoría de casos, exceptuando la frontera de decisión verde, en la cual hay un error de clasificación sobre 4 muestras marrones, aunque es algo comprensible ya que estás 4 muestras están bastante mezcladas con las muestras naranjas.\n",
    "\n",
    "En el segundo nivel `c: 1`, se puede observar que la cantidad de vectores soporte seleccionados se ha reducido, pero, ¿cómo de bien están clasificadas las muestras?\n",
    "\n",
    "Para el primer segundo la clasificación es buena en la mayoría de casos, exceptuando la frontera de decisión verde, la cual se podría ver como que empeora, ya que añade una muestra sin clasificar, aunque las fronteras de decisiones azules y rojas se ve que han sido más acertadas, pues los margenes son mayores.\n",
    "\n",
    "En el tercer nivel `c: 10`, se puede observar que la cantidad de vectores soporte seleccionados se ha reducido drasticamente, pero, ¿cómo de bien están clasificadas las muestras?\n",
    "\n",
    "Para el tercer nivel la clasificación es con diferencia la peor. El número de muestras mal clasificadas ha aumentado en todos los casos y no se ha obtenido ninguna mejora.\n",
    "\n",
    "Bajo nuestro punto de vista la mejor opción podría ser el segundo nivel `c: 1`, ya que deja más margen en las fronteras de decisión al ser menos restrictiva y mejora en algunos casos sobre el primer nivel.\n",
    "\n"
   ]
  },
  {
   "attachments": {},
   "cell_type": "markdown",
   "metadata": {},
   "source": [
    "### Ejercicio 2: Implementar un clasificador de sexo basado en la imagen de la cara con SVM\n",
    "El objetivo de esta tarea es comprobar si se pueden mejorar los resultados obtenidos con la regresión logística en el problema de clasificación de ejercicio 2 (apartado 6.4) de la Práctica 6. Para ello se hará uso de la clase SVC y debido a la complejidad del problema se planteará la utilización de otros núcleos aparte del lineal, es decir se utilizarán los núcleos polinomiales (kernel=’poly’) y funciones de base radial (kernel=’rbf’). Por tanto para encontrar la mejor combinación de núcleo y parámetro de regularización se debe dividir el conjunto de entrenamiento en entrenamiento y validación como se hizo en el apartado 7.3 de la Práctica 7.\n",
    "\n",
    "Para completar este ejercicio se deberá realizar lo siguiente:\n",
    "1. Leer el conjunto de entrenamiento y de test de los archivos CelebA-10K-train.csv y\n",
    "CelebA-10K-test.csv respectivamente.\n",
    "2. Dividir el conjunto de entrenamiento en entrenamiento (80%) y validación (20%).\n",
    "3. Entrenar clasificadores basados en SVM utilizando los kernel lineal, polinomial y función de base radial con diferentes valores para el  coeficiente de regularización C.\n",
    "4. Para la mejor combinación de núcleo y coeficiente de regularización, calcular la tasa de acierto en el conjunto de test.\n",
    "5. (Opcional) Clasificar las imágenes con el clasificador con la mejor combinación de núcleo y coeficiente de regularización que están en el archivo comprimido ImagenesParaClasificar.zip que se encuentra en el github de las prácticas de la asignatura, y comparar los resultados con los obtenidos en la Práctica 6."
   ]
  },
  {
   "attachments": {},
   "cell_type": "markdown",
   "metadata": {},
   "source": [
    "#### Leer el conjunto de entrenamiento y de test de los archivos CelebA-10K-train.csv y CelebA-10K-test.csv respectivamente."
   ]
  },
  {
   "cell_type": "code",
   "execution_count": 7,
   "metadata": {},
   "outputs": [],
   "source": [
    "train_df = pd.read_csv('./CelebA-10k-train.csv')\n",
    "test_df = pd.read_csv('./CelebA-10k-test.csv')"
   ]
  },
  {
   "cell_type": "code",
   "execution_count": 8,
   "metadata": {},
   "outputs": [
    {
     "data": {
      "text/html": [
       "<div>\n",
       "<style scoped>\n",
       "    .dataframe tbody tr th:only-of-type {\n",
       "        vertical-align: middle;\n",
       "    }\n",
       "\n",
       "    .dataframe tbody tr th {\n",
       "        vertical-align: top;\n",
       "    }\n",
       "\n",
       "    .dataframe thead th {\n",
       "        text-align: right;\n",
       "    }\n",
       "</style>\n",
       "<table border=\"1\" class=\"dataframe\">\n",
       "  <thead>\n",
       "    <tr style=\"text-align: right;\">\n",
       "      <th></th>\n",
       "      <th>Image_name</th>\n",
       "      <th>Gender</th>\n",
       "      <th>0</th>\n",
       "      <th>1</th>\n",
       "      <th>2</th>\n",
       "      <th>3</th>\n",
       "      <th>4</th>\n",
       "      <th>5</th>\n",
       "      <th>6</th>\n",
       "      <th>7</th>\n",
       "      <th>...</th>\n",
       "      <th>502</th>\n",
       "      <th>503</th>\n",
       "      <th>504</th>\n",
       "      <th>505</th>\n",
       "      <th>506</th>\n",
       "      <th>507</th>\n",
       "      <th>508</th>\n",
       "      <th>509</th>\n",
       "      <th>510</th>\n",
       "      <th>511</th>\n",
       "    </tr>\n",
       "  </thead>\n",
       "  <tbody>\n",
       "    <tr>\n",
       "      <th>0</th>\n",
       "      <td>091932.jpg</td>\n",
       "      <td>female</td>\n",
       "      <td>-0.116635</td>\n",
       "      <td>-0.036023</td>\n",
       "      <td>0.119270</td>\n",
       "      <td>-0.118492</td>\n",
       "      <td>-0.011247</td>\n",
       "      <td>0.060698</td>\n",
       "      <td>0.060445</td>\n",
       "      <td>-0.135724</td>\n",
       "      <td>...</td>\n",
       "      <td>0.109374</td>\n",
       "      <td>-0.087184</td>\n",
       "      <td>-0.170514</td>\n",
       "      <td>-0.002174</td>\n",
       "      <td>0.251658</td>\n",
       "      <td>0.019284</td>\n",
       "      <td>0.073426</td>\n",
       "      <td>-0.181623</td>\n",
       "      <td>0.249872</td>\n",
       "      <td>-0.185412</td>\n",
       "    </tr>\n",
       "    <tr>\n",
       "      <th>1</th>\n",
       "      <td>107834.jpg</td>\n",
       "      <td>male</td>\n",
       "      <td>0.112001</td>\n",
       "      <td>0.106917</td>\n",
       "      <td>0.103252</td>\n",
       "      <td>0.226382</td>\n",
       "      <td>-0.223111</td>\n",
       "      <td>0.024005</td>\n",
       "      <td>0.061014</td>\n",
       "      <td>-0.057421</td>\n",
       "      <td>...</td>\n",
       "      <td>0.215107</td>\n",
       "      <td>-0.141468</td>\n",
       "      <td>-0.104929</td>\n",
       "      <td>0.106494</td>\n",
       "      <td>0.210237</td>\n",
       "      <td>0.078579</td>\n",
       "      <td>-0.125898</td>\n",
       "      <td>-0.041841</td>\n",
       "      <td>-0.260546</td>\n",
       "      <td>-0.260307</td>\n",
       "    </tr>\n",
       "    <tr>\n",
       "      <th>2</th>\n",
       "      <td>110166.jpg</td>\n",
       "      <td>female</td>\n",
       "      <td>-0.088096</td>\n",
       "      <td>-0.059410</td>\n",
       "      <td>0.295710</td>\n",
       "      <td>0.371716</td>\n",
       "      <td>0.257341</td>\n",
       "      <td>-0.023550</td>\n",
       "      <td>0.219391</td>\n",
       "      <td>-0.146221</td>\n",
       "      <td>...</td>\n",
       "      <td>-0.244827</td>\n",
       "      <td>-0.221200</td>\n",
       "      <td>-0.089513</td>\n",
       "      <td>0.087662</td>\n",
       "      <td>-0.097081</td>\n",
       "      <td>0.176293</td>\n",
       "      <td>-0.237461</td>\n",
       "      <td>0.418944</td>\n",
       "      <td>0.229182</td>\n",
       "      <td>-0.059442</td>\n",
       "    </tr>\n",
       "    <tr>\n",
       "      <th>3</th>\n",
       "      <td>133978.jpg</td>\n",
       "      <td>male</td>\n",
       "      <td>-0.105558</td>\n",
       "      <td>0.072108</td>\n",
       "      <td>0.112332</td>\n",
       "      <td>0.005667</td>\n",
       "      <td>0.085721</td>\n",
       "      <td>0.035998</td>\n",
       "      <td>0.084216</td>\n",
       "      <td>0.072809</td>\n",
       "      <td>...</td>\n",
       "      <td>-0.015807</td>\n",
       "      <td>0.172591</td>\n",
       "      <td>0.081388</td>\n",
       "      <td>-0.069114</td>\n",
       "      <td>0.034852</td>\n",
       "      <td>-0.098148</td>\n",
       "      <td>-0.020872</td>\n",
       "      <td>0.131987</td>\n",
       "      <td>-0.043374</td>\n",
       "      <td>-0.173870</td>\n",
       "    </tr>\n",
       "    <tr>\n",
       "      <th>4</th>\n",
       "      <td>106976.jpg</td>\n",
       "      <td>male</td>\n",
       "      <td>-0.090511</td>\n",
       "      <td>0.340148</td>\n",
       "      <td>0.312473</td>\n",
       "      <td>-0.453379</td>\n",
       "      <td>0.242707</td>\n",
       "      <td>0.068523</td>\n",
       "      <td>-0.004920</td>\n",
       "      <td>0.008697</td>\n",
       "      <td>...</td>\n",
       "      <td>-0.025792</td>\n",
       "      <td>-0.285553</td>\n",
       "      <td>-0.236192</td>\n",
       "      <td>-0.078685</td>\n",
       "      <td>-0.027608</td>\n",
       "      <td>-0.017950</td>\n",
       "      <td>0.004748</td>\n",
       "      <td>0.202833</td>\n",
       "      <td>0.097448</td>\n",
       "      <td>0.000682</td>\n",
       "    </tr>\n",
       "  </tbody>\n",
       "</table>\n",
       "<p>5 rows × 514 columns</p>\n",
       "</div>"
      ],
      "text/plain": [
       "   Image_name  Gender         0         1         2         3         4   \n",
       "0  091932.jpg  female -0.116635 -0.036023  0.119270 -0.118492 -0.011247  \\\n",
       "1  107834.jpg    male  0.112001  0.106917  0.103252  0.226382 -0.223111   \n",
       "2  110166.jpg  female -0.088096 -0.059410  0.295710  0.371716  0.257341   \n",
       "3  133978.jpg    male -0.105558  0.072108  0.112332  0.005667  0.085721   \n",
       "4  106976.jpg    male -0.090511  0.340148  0.312473 -0.453379  0.242707   \n",
       "\n",
       "          5         6         7  ...       502       503       504       505   \n",
       "0  0.060698  0.060445 -0.135724  ...  0.109374 -0.087184 -0.170514 -0.002174  \\\n",
       "1  0.024005  0.061014 -0.057421  ...  0.215107 -0.141468 -0.104929  0.106494   \n",
       "2 -0.023550  0.219391 -0.146221  ... -0.244827 -0.221200 -0.089513  0.087662   \n",
       "3  0.035998  0.084216  0.072809  ... -0.015807  0.172591  0.081388 -0.069114   \n",
       "4  0.068523 -0.004920  0.008697  ... -0.025792 -0.285553 -0.236192 -0.078685   \n",
       "\n",
       "        506       507       508       509       510       511  \n",
       "0  0.251658  0.019284  0.073426 -0.181623  0.249872 -0.185412  \n",
       "1  0.210237  0.078579 -0.125898 -0.041841 -0.260546 -0.260307  \n",
       "2 -0.097081  0.176293 -0.237461  0.418944  0.229182 -0.059442  \n",
       "3  0.034852 -0.098148 -0.020872  0.131987 -0.043374 -0.173870  \n",
       "4 -0.027608 -0.017950  0.004748  0.202833  0.097448  0.000682  \n",
       "\n",
       "[5 rows x 514 columns]"
      ]
     },
     "execution_count": 8,
     "metadata": {},
     "output_type": "execute_result"
    }
   ],
   "source": [
    "train_df.head()"
   ]
  },
  {
   "cell_type": "code",
   "execution_count": 9,
   "metadata": {},
   "outputs": [
    {
     "data": {
      "text/html": [
       "<div>\n",
       "<style scoped>\n",
       "    .dataframe tbody tr th:only-of-type {\n",
       "        vertical-align: middle;\n",
       "    }\n",
       "\n",
       "    .dataframe tbody tr th {\n",
       "        vertical-align: top;\n",
       "    }\n",
       "\n",
       "    .dataframe thead th {\n",
       "        text-align: right;\n",
       "    }\n",
       "</style>\n",
       "<table border=\"1\" class=\"dataframe\">\n",
       "  <thead>\n",
       "    <tr style=\"text-align: right;\">\n",
       "      <th></th>\n",
       "      <th>Image_name</th>\n",
       "      <th>Gender</th>\n",
       "      <th>0</th>\n",
       "      <th>1</th>\n",
       "      <th>2</th>\n",
       "      <th>3</th>\n",
       "      <th>4</th>\n",
       "      <th>5</th>\n",
       "      <th>6</th>\n",
       "      <th>7</th>\n",
       "      <th>...</th>\n",
       "      <th>502</th>\n",
       "      <th>503</th>\n",
       "      <th>504</th>\n",
       "      <th>505</th>\n",
       "      <th>506</th>\n",
       "      <th>507</th>\n",
       "      <th>508</th>\n",
       "      <th>509</th>\n",
       "      <th>510</th>\n",
       "      <th>511</th>\n",
       "    </tr>\n",
       "  </thead>\n",
       "  <tbody>\n",
       "    <tr>\n",
       "      <th>0</th>\n",
       "      <td>160799.jpg</td>\n",
       "      <td>male</td>\n",
       "      <td>-0.001214</td>\n",
       "      <td>0.050118</td>\n",
       "      <td>0.114304</td>\n",
       "      <td>-0.220199</td>\n",
       "      <td>0.125049</td>\n",
       "      <td>0.132411</td>\n",
       "      <td>0.187627</td>\n",
       "      <td>0.245111</td>\n",
       "      <td>...</td>\n",
       "      <td>0.128480</td>\n",
       "      <td>0.380787</td>\n",
       "      <td>-0.046444</td>\n",
       "      <td>0.076865</td>\n",
       "      <td>0.089790</td>\n",
       "      <td>-0.021989</td>\n",
       "      <td>0.226935</td>\n",
       "      <td>0.187877</td>\n",
       "      <td>0.158138</td>\n",
       "      <td>-0.012854</td>\n",
       "    </tr>\n",
       "    <tr>\n",
       "      <th>1</th>\n",
       "      <td>187197.jpg</td>\n",
       "      <td>female</td>\n",
       "      <td>0.039534</td>\n",
       "      <td>-0.071467</td>\n",
       "      <td>0.314972</td>\n",
       "      <td>0.306746</td>\n",
       "      <td>-0.101550</td>\n",
       "      <td>0.047111</td>\n",
       "      <td>-0.104315</td>\n",
       "      <td>0.245087</td>\n",
       "      <td>...</td>\n",
       "      <td>0.382490</td>\n",
       "      <td>0.176238</td>\n",
       "      <td>0.025530</td>\n",
       "      <td>-0.083777</td>\n",
       "      <td>0.168717</td>\n",
       "      <td>-0.056147</td>\n",
       "      <td>0.016460</td>\n",
       "      <td>0.331741</td>\n",
       "      <td>0.074749</td>\n",
       "      <td>0.220997</td>\n",
       "    </tr>\n",
       "    <tr>\n",
       "      <th>2</th>\n",
       "      <td>083076.jpg</td>\n",
       "      <td>male</td>\n",
       "      <td>-0.047089</td>\n",
       "      <td>0.333163</td>\n",
       "      <td>0.177810</td>\n",
       "      <td>0.474378</td>\n",
       "      <td>-0.044521</td>\n",
       "      <td>0.033442</td>\n",
       "      <td>0.073859</td>\n",
       "      <td>0.211728</td>\n",
       "      <td>...</td>\n",
       "      <td>0.053420</td>\n",
       "      <td>0.037373</td>\n",
       "      <td>-0.060997</td>\n",
       "      <td>-0.086737</td>\n",
       "      <td>-0.149124</td>\n",
       "      <td>-0.115099</td>\n",
       "      <td>-0.190493</td>\n",
       "      <td>-0.055844</td>\n",
       "      <td>-0.258208</td>\n",
       "      <td>0.033480</td>\n",
       "    </tr>\n",
       "    <tr>\n",
       "      <th>3</th>\n",
       "      <td>074509.jpg</td>\n",
       "      <td>female</td>\n",
       "      <td>-0.125720</td>\n",
       "      <td>-0.022470</td>\n",
       "      <td>-0.046570</td>\n",
       "      <td>-0.288704</td>\n",
       "      <td>0.019304</td>\n",
       "      <td>0.049715</td>\n",
       "      <td>0.106405</td>\n",
       "      <td>0.326570</td>\n",
       "      <td>...</td>\n",
       "      <td>0.414732</td>\n",
       "      <td>0.084099</td>\n",
       "      <td>0.145265</td>\n",
       "      <td>-0.133674</td>\n",
       "      <td>-0.067822</td>\n",
       "      <td>0.209204</td>\n",
       "      <td>0.214927</td>\n",
       "      <td>-0.004678</td>\n",
       "      <td>0.235657</td>\n",
       "      <td>-0.328508</td>\n",
       "    </tr>\n",
       "    <tr>\n",
       "      <th>4</th>\n",
       "      <td>144676.jpg</td>\n",
       "      <td>female</td>\n",
       "      <td>-0.113081</td>\n",
       "      <td>0.204668</td>\n",
       "      <td>0.352101</td>\n",
       "      <td>0.015899</td>\n",
       "      <td>0.057922</td>\n",
       "      <td>0.115096</td>\n",
       "      <td>-0.155819</td>\n",
       "      <td>0.231064</td>\n",
       "      <td>...</td>\n",
       "      <td>0.258996</td>\n",
       "      <td>-0.267745</td>\n",
       "      <td>-0.207185</td>\n",
       "      <td>-0.037760</td>\n",
       "      <td>-0.129075</td>\n",
       "      <td>-0.122945</td>\n",
       "      <td>0.193200</td>\n",
       "      <td>0.190426</td>\n",
       "      <td>-0.032470</td>\n",
       "      <td>-0.094818</td>\n",
       "    </tr>\n",
       "  </tbody>\n",
       "</table>\n",
       "<p>5 rows × 514 columns</p>\n",
       "</div>"
      ],
      "text/plain": [
       "   Image_name  Gender         0         1         2         3         4   \n",
       "0  160799.jpg    male -0.001214  0.050118  0.114304 -0.220199  0.125049  \\\n",
       "1  187197.jpg  female  0.039534 -0.071467  0.314972  0.306746 -0.101550   \n",
       "2  083076.jpg    male -0.047089  0.333163  0.177810  0.474378 -0.044521   \n",
       "3  074509.jpg  female -0.125720 -0.022470 -0.046570 -0.288704  0.019304   \n",
       "4  144676.jpg  female -0.113081  0.204668  0.352101  0.015899  0.057922   \n",
       "\n",
       "          5         6         7  ...       502       503       504       505   \n",
       "0  0.132411  0.187627  0.245111  ...  0.128480  0.380787 -0.046444  0.076865  \\\n",
       "1  0.047111 -0.104315  0.245087  ...  0.382490  0.176238  0.025530 -0.083777   \n",
       "2  0.033442  0.073859  0.211728  ...  0.053420  0.037373 -0.060997 -0.086737   \n",
       "3  0.049715  0.106405  0.326570  ...  0.414732  0.084099  0.145265 -0.133674   \n",
       "4  0.115096 -0.155819  0.231064  ...  0.258996 -0.267745 -0.207185 -0.037760   \n",
       "\n",
       "        506       507       508       509       510       511  \n",
       "0  0.089790 -0.021989  0.226935  0.187877  0.158138 -0.012854  \n",
       "1  0.168717 -0.056147  0.016460  0.331741  0.074749  0.220997  \n",
       "2 -0.149124 -0.115099 -0.190493 -0.055844 -0.258208  0.033480  \n",
       "3 -0.067822  0.209204  0.214927 -0.004678  0.235657 -0.328508  \n",
       "4 -0.129075 -0.122945  0.193200  0.190426 -0.032470 -0.094818  \n",
       "\n",
       "[5 rows x 514 columns]"
      ]
     },
     "execution_count": 9,
     "metadata": {},
     "output_type": "execute_result"
    }
   ],
   "source": [
    "test_df.head()"
   ]
  },
  {
   "attachments": {},
   "cell_type": "markdown",
   "metadata": {},
   "source": [
    "#### Dividir el conjunto de entrenamiento en entrenamiento (80%) y validación (20%)."
   ]
  },
  {
   "cell_type": "code",
   "execution_count": 10,
   "metadata": {},
   "outputs": [],
   "source": [
    "train, validation = train_test_split(train_df, test_size=0.2, random_state=42)"
   ]
  },
  {
   "attachments": {},
   "cell_type": "markdown",
   "metadata": {},
   "source": [
    "#### Entrenar clasificadores basados en SVM utilizando los kernel lineal, polinomial y función de base radial con diferentes valores para el coeficiente de regularización C."
   ]
  },
  {
   "attachments": {},
   "cell_type": "markdown",
   "metadata": {},
   "source": [
    "##### kernel = lineal"
   ]
  },
  {
   "cell_type": "code",
   "execution_count": 11,
   "metadata": {},
   "outputs": [],
   "source": [
    "C_values = [0.01, 1, 10, 20, 50, 100]\n",
    "svc_lineal_models = []\n",
    "\n",
    "for C in C_values:\n",
    "    svc_lineal = SVC(kernel='linear', C=C)\n",
    "    svc_lineal_models.append(svc_lineal)"
   ]
  },
  {
   "attachments": {},
   "cell_type": "markdown",
   "metadata": {},
   "source": [
    "##### kernel = poly"
   ]
  },
  {
   "cell_type": "code",
   "execution_count": 12,
   "metadata": {},
   "outputs": [],
   "source": [
    "svc_polinomial_models = []\n",
    "\n",
    "for C in C_values:\n",
    "    svc_polinomial = SVC(kernel='poly', C=C, degree=2)\n",
    "    svc_polinomial_models.append(svc_polinomial)"
   ]
  },
  {
   "attachments": {},
   "cell_type": "markdown",
   "metadata": {},
   "source": [
    "##### kernel = rbf (radial base function)"
   ]
  },
  {
   "cell_type": "code",
   "execution_count": 13,
   "metadata": {},
   "outputs": [],
   "source": [
    "svc_rbf_models = []\n",
    "\n",
    "for C in C_values:\n",
    "    svc_rbf = SVC(kernel='rbf', C=C, gamma=0.1)\n",
    "    svc_rbf_models.append(svc_polinomial)"
   ]
  },
  {
   "attachments": {},
   "cell_type": "markdown",
   "metadata": {},
   "source": [
    "#### Para la mejor combinación de núcleo y coeficiente de regularización, calcular la tasa de acierto en el conjunto de test."
   ]
  },
  {
   "cell_type": "code",
   "execution_count": 14,
   "metadata": {},
   "outputs": [
    {
     "name": "stdout",
     "output_type": "stream",
     "text": [
      "Accuracy score para C=0.01: 0.89\n",
      "Accuracy score para C=1: 0.908\n",
      "Accuracy score para C=10: 0.93\n",
      "Accuracy score para C=20: 0.939\n",
      "Accuracy score para C=50: 0.948\n",
      "Accuracy score para C=100: 0.948\n"
     ]
    }
   ],
   "source": [
    "lineal_models = []\n",
    "\n",
    "for svc_lineal_model in svc_lineal_models:\n",
    "    lineal_model = svc_lineal_model.fit(train.iloc[:, 2:], train['Gender'])\n",
    "    lineal_models.append(lineal_model)\n",
    "\n",
    "lineal_accs = []\n",
    "for i,lineal_model in enumerate(lineal_models):\n",
    "    lineal_predict = lineal_model.predict(validation.iloc[:, 2:])\n",
    "    lineal_acc = accuracy_score(validation.iloc[:, 1], lineal_predict)\n",
    "    lineal_accs.append(lineal_acc)\n",
    "    print(f'Accuracy score para C={C_values[i]}: {lineal_acc}')"
   ]
  },
  {
   "cell_type": "code",
   "execution_count": 15,
   "metadata": {},
   "outputs": [
    {
     "name": "stdout",
     "output_type": "stream",
     "text": [
      "Accuracy score para C=0.01: 0.59\n",
      "Accuracy score para C=1: 0.96\n",
      "Accuracy score para C=10: 0.956\n",
      "Accuracy score para C=20: 0.956\n",
      "Accuracy score para C=50: 0.957\n",
      "Accuracy score para C=100: 0.957\n"
     ]
    }
   ],
   "source": [
    "polynomial_models = []\n",
    "\n",
    "for svc_polynomial_model in svc_polinomial_models:\n",
    "    polynomial_model = svc_polynomial_model.fit(train.iloc[:, 2:], train['Gender'])\n",
    "    polynomial_models.append(polynomial_model)\n",
    "\n",
    "polynomial_accs = []\n",
    "for i, polynomial_model in enumerate(polynomial_models):\n",
    "    polynomial_predict = polynomial_model.predict(validation.iloc[:, 2:])\n",
    "    polynomial_acc = accuracy_score(validation.iloc[:, 1], polynomial_predict)\n",
    "    polynomial_accs.append(polynomial_acc)\n",
    "    print(f'Accuracy score para C={C_values[i]}: {polynomial_acc}')"
   ]
  },
  {
   "cell_type": "code",
   "execution_count": 16,
   "metadata": {},
   "outputs": [
    {
     "name": "stdout",
     "output_type": "stream",
     "text": [
      "Accuracy score para C=0.01: 0.589\n",
      "Accuracy score para C=1: 0.941\n",
      "Accuracy score para C=10: 0.95\n",
      "Accuracy score para C=20: 0.949\n",
      "Accuracy score para C=50: 0.949\n",
      "Accuracy score para C=100: 0.949\n"
     ]
    }
   ],
   "source": [
    "rbf_models = []\n",
    "\n",
    "for C in C_values:\n",
    "    svc_rbf = SVC(kernel='rbf', C=C)\n",
    "    rbf_model = svc_rbf.fit(train.iloc[:, 2:], train['Gender'])\n",
    "    rbf_models.append(rbf_model)\n",
    "\n",
    "rbf_accs = []\n",
    "for i, rbf_model in enumerate(rbf_models):\n",
    "    rbf_predict = rbf_model.predict(validation.iloc[:, 2:])\n",
    "    rbf_acc = accuracy_score(validation.iloc[:, 1], rbf_predict)\n",
    "    rbf_accs.append(rbf_acc)\n",
    "    print(f'Accuracy score para C={C_values[i]}: {rbf_acc}')"
   ]
  },
  {
   "cell_type": "code",
   "execution_count": 17,
   "metadata": {},
   "outputs": [],
   "source": [
    "final_scores = {}\n",
    "final_scores[\"lineal\"] = (lineal_accs.index(max(lineal_accs)), max(lineal_accs))\n",
    "final_scores[\"polynomial\"] = (polynomial_accs.index(max(polynomial_accs)), max(polynomial_accs))\n",
    "final_scores[\"rbf\"] = (rbf_accs.index(max(rbf_accs)), max(rbf_accs))"
   ]
  },
  {
   "cell_type": "code",
   "execution_count": 18,
   "metadata": {},
   "outputs": [
    {
     "name": "stdout",
     "output_type": "stream",
     "text": [
      "El mejor modelo es polynomial_1 con un accuracy de 0.96.\n"
     ]
    }
   ],
   "source": [
    "best_val, best_model = 0, ''\n",
    "for model, (index, score) in final_scores.items():\n",
    "    if score > best_val:\n",
    "        best_val = score\n",
    "        best_model = model + \"_\" + str(C_values[index])\n",
    "\n",
    "print(f\"El mejor modelo es {best_model} con un accuracy de {best_val}.\")"
   ]
  },
  {
   "cell_type": "code",
   "execution_count": 19,
   "metadata": {},
   "outputs": [
    {
     "name": "stdout",
     "output_type": "stream",
     "text": [
      "Accuracy score para el mejor modelo: 0.9642\n"
     ]
    }
   ],
   "source": [
    "best_combination = SVC(kernel='poly', C=1, degree=2)\n",
    "best = polynomial_models[1].fit(train_df.iloc[:, 2:], train_df['Gender'])\n",
    "best_predict = best.predict(test_df.iloc[:, 2:])\n",
    "best_acc_score = accuracy_score(test_df.iloc[:, 1], best_predict)\n",
    "print(f'Accuracy score para el mejor modelo: {best_acc_score}')"
   ]
  },
  {
   "attachments": {},
   "cell_type": "markdown",
   "metadata": {},
   "source": [
    "#### Clasificar las imágenes con el clasificador con la mejor combinación de núcleo y coeficiente de regularización que están en el archivo comprimido ImagenesParaClasificar.zip que se encuentra en el github de las prácticas de la asignatura, y comparar los resultados con los obtenidos en la Práctica 6."
   ]
  },
  {
   "cell_type": "code",
   "execution_count": 20,
   "metadata": {},
   "outputs": [],
   "source": [
    "path = './ImagenesParaClasificar'\n",
    "files = os.listdir(path)"
   ]
  },
  {
   "cell_type": "code",
   "execution_count": 21,
   "metadata": {},
   "outputs": [],
   "source": [
    "images = pd.DataFrame()\n",
    "images = test_df[test_df['Image_name'].isin(files)]"
   ]
  },
  {
   "cell_type": "code",
   "execution_count": 22,
   "metadata": {},
   "outputs": [
    {
     "name": "stdout",
     "output_type": "stream",
     "text": [
      "La imagen 000038.jpg es female\n",
      "La imagen 000047.jpg es female\n",
      "La imagen 000082.jpg es male\n",
      "La imagen 000220.jpg es female\n",
      "La imagen 000595.jpg es female\n",
      "La imagen 000767.jpg es male\n",
      "La imagen 001182.jpg es male\n",
      "La imagen 002185.jpg es female\n"
     ]
    }
   ],
   "source": [
    "results = best.predict(images.iloc[:,2:])\n",
    "for i, image in enumerate(files):\n",
    "    print(f'La imagen {image} es {results[i]}')"
   ]
  },
  {
   "cell_type": "code",
   "execution_count": 23,
   "metadata": {},
   "outputs": [
    {
     "name": "stdout",
     "output_type": "stream",
     "text": [
      "La tasa de acierto es de 75.00%\n"
     ]
    }
   ],
   "source": [
    "accuracy_img = accuracy_score(images.iloc[:,1:2], results)\n",
    "print(f'La tasa de acierto es de {accuracy_img*100:.2f}%')"
   ]
  }
 ],
 "metadata": {
  "kernelspec": {
   "display_name": "aa1",
   "language": "python",
   "name": "python3"
  },
  "language_info": {
   "codemirror_mode": {
    "name": "ipython",
    "version": 3
   },
   "file_extension": ".py",
   "mimetype": "text/x-python",
   "name": "python",
   "nbconvert_exporter": "python",
   "pygments_lexer": "ipython3",
   "version": "3.10.4"
  },
  "orig_nbformat": 4
 },
 "nbformat": 4,
 "nbformat_minor": 2
}
